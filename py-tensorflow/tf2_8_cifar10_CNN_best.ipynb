{
  "nbformat": 4,
  "nbformat_minor": 0,
  "metadata": {
    "colab": {
      "name": "tf2_8_cifar10_CNN_best.ipynb",
      "provenance": [],
      "collapsed_sections": [],
      "include_colab_link": true
    },
    "kernelspec": {
      "name": "python3",
      "display_name": "Python 3"
    },
    "accelerator": "GPU"
  },
  "cells": [
    {
      "cell_type": "markdown",
      "metadata": {
        "id": "view-in-github",
        "colab_type": "text"
      },
      "source": [
        "<a href=\"https://colab.research.google.com/github/dasdasqs2/pdm05/blob/master/py-tensorflow/tf2_8_cifar10_CNN_best.ipynb\" target=\"_parent\"><img src=\"https://colab.research.google.com/assets/colab-badge.svg\" alt=\"Open In Colab\"/></a>"
      ]
    },
    {
      "cell_type": "markdown",
      "metadata": {
        "id": "rswfCVLZ-QW0"
      },
      "source": [
        "# **CNN model of cifar-10 dataset**\n",
        "- Conv2D + FCN\n",
        "    * Conv2D : 2차원 합성곱 필터링 + 풀링(Pooling)\n",
        "    * FCN : 1차원 완전연결신경망\n",
        "\n",
        "***\n",
        "- ## Traget: Find the best model\n",
        "***\n",
        "\n",
        "![mnist_NN_2_layers](https://img1.daumcdn.net/thumb/R1280x0/?scode=mtistory2&fname=https%3A%2F%2Fblog.kakaocdn.net%2Fdn%2FdJp5Z6%2FbtqAPebnF3x%2FQCe5vVcskhmxe964bGz4iK%2Fimg.png)\n",
        "\n",
        "(source: https://img1.daumcdn.net/thumb/R1280x0/?scode=mtistory2&fname=https%3A%2F%2Fblog.kakaocdn.net%2Fdn%2FdJp5Z6%2FbtqAPebnF3x%2FQCe5vVcskhmxe964bGz4iK%2Fimg.png)"
      ]
    },
    {
      "cell_type": "markdown",
      "metadata": {
        "id": "ISueys4bNHd1"
      },
      "source": [
        "### CIFAR-10 Dataset (CIFAR: Canadian Institute For Advanced Research)\n",
        "> https://www.cs.toronto.edu/~kriz/cifar.html\n",
        "\n",
        "- (50000, 32, 32, 3), train\n",
        "- (10000, 32, 32, 3), test\n",
        "- color photographs of objects from 10 classes, such as frogs, birds, cats, ships, etc\n",
        "> class names\n",
        "> - ['airplane', 'automobile', 'bird', 'cat', 'deer', 'dog', 'frog', 'horse', 'ship', 'truck']\n",
        "\n",
        "- 참고 문헌  \n",
        "\n",
        "> https://becominghuman.ai/cifar-10-image-classification-fd2ace47c5e8  \n",
        "\n",
        "> https://becominghuman.ai/convolutional-neural-networks-cnns-convnets-for-visual-recognition-cae879a70f1a\n",
        "\n",
        "> https://towardsdatascience.com/cifar-10-image-classification-in-tensorflow-5b501f7dc77c"
      ]
    },
    {
      "cell_type": "markdown",
      "metadata": {
        "id": "1yhvkxS_HhpK"
      },
      "source": [
        "## Search the best model of C2F2\n",
        "- callback\n",
        "    - Early stopping\n",
        "    - model checkpoint"
      ]
    },
    {
      "cell_type": "code",
      "metadata": {
        "id": "8GgGzPXPVyfa",
        "colab": {
          "base_uri": "https://localhost:8080/"
        },
        "outputId": "baca573b-240d-4d6d-c372-97fd5bb0dbd3"
      },
      "source": [
        "import numpy as np\n",
        "import tensorflow as tf\n",
        "from tensorflow import keras\n",
        "import pandas as pd\n",
        "import matplotlib.pyplot as plt\n",
        "%matplotlib inline\n",
        "\n",
        "tf.random.set_seed(0)\n",
        "\n",
        "print(tf.__version__)"
      ],
      "execution_count": 1,
      "outputs": [
        {
          "output_type": "stream",
          "text": [
            "2.3.0\n"
          ],
          "name": "stdout"
        }
      ]
    },
    {
      "cell_type": "code",
      "metadata": {
        "id": "nMZqMpIvIlwf"
      },
      "source": [
        "# import TF2 submodules\n",
        "from tensorflow.keras import layers, models, callbacks"
      ],
      "execution_count": 2,
      "outputs": []
    },
    {
      "cell_type": "markdown",
      "metadata": {
        "id": "-0IOOUM14Jk1"
      },
      "source": [
        "## **데이터 로딩, 정규화**"
      ]
    },
    {
      "cell_type": "code",
      "metadata": {
        "id": "N1ogJ7I64Fz-",
        "colab": {
          "base_uri": "https://localhost:8080/"
        },
        "outputId": "b8c5d1ca-0e8e-4c36-ceb0-caf1b0b43429"
      },
      "source": [
        "from keras.datasets import cifar10\n",
        "\n",
        "(X_train0, y_train0), (X_test0, y_test0) = cifar10.load_data()\n",
        "\n",
        "# Reshape\n",
        "# X_train = X_train0.reshape(60000,28,28,1)\n",
        "# X_test = X_test0.reshape(10000,28,28,1)\n",
        "\n",
        "# Normalization\n",
        "X_train, X_test = X_train0/255.0, X_test0/255.0 # 정규화\n",
        "\n",
        "print(\"X_train={0}\".format(X_train.shape))\n",
        "print(\"y_train={0}\".format(y_train0.shape)) \n",
        "print(\"X_test={0}\".format(X_test.shape))\n",
        "print(\"y_test={0}\".format(y_test0.shape))"
      ],
      "execution_count": 3,
      "outputs": [
        {
          "output_type": "stream",
          "text": [
            "Downloading data from https://www.cs.toronto.edu/~kriz/cifar-10-python.tar.gz\n",
            "170500096/170498071 [==============================] - 2s 0us/step\n",
            "X_train=(50000, 32, 32, 3)\n",
            "y_train=(50000, 1)\n",
            "X_test=(10000, 32, 32, 3)\n",
            "y_test=(10000, 1)\n"
          ],
          "name": "stdout"
        }
      ]
    },
    {
      "cell_type": "code",
      "metadata": {
        "id": "F46-QZqJHiQ6",
        "colab": {
          "base_uri": "https://localhost:8080/"
        },
        "outputId": "10f65f6a-8816-4b33-c40f-9db147d1d48a"
      },
      "source": [
        "# One-Hot-Encoding\n",
        "# Use function to_categorical() to do One-Hot-Encoding\n",
        "# tf.keras.utils.to_categorical\n",
        "from keras.utils import to_categorical\n",
        "\n",
        "y_train = to_categorical(y_train0, 10)\n",
        "y_test = to_categorical(y_test0, 10)\n",
        "y_train.shape,y_test.shape"
      ],
      "execution_count": 4,
      "outputs": [
        {
          "output_type": "execute_result",
          "data": {
            "text/plain": [
              "((50000, 10), (10000, 10))"
            ]
          },
          "metadata": {
            "tags": []
          },
          "execution_count": 4
        }
      ]
    },
    {
      "cell_type": "code",
      "metadata": {
        "id": "eZ3OfP5PkEkL",
        "colab": {
          "base_uri": "https://localhost:8080/"
        },
        "outputId": "5a88ff01-8362-4aee-a4cd-902848a2de0d"
      },
      "source": [
        "# y_train0.shape vs. y_train.shape\n",
        "y_train0.shape, y_train.shape"
      ],
      "execution_count": 5,
      "outputs": [
        {
          "output_type": "execute_result",
          "data": {
            "text/plain": [
              "((50000, 1), (50000, 10))"
            ]
          },
          "metadata": {
            "tags": []
          },
          "execution_count": 5
        }
      ]
    },
    {
      "cell_type": "markdown",
      "metadata": {
        "id": "5z7SozStigmF"
      },
      "source": [
        "### Display images in CIFAR-10\n",
        "- one random image\n",
        "- 10 representative images"
      ]
    },
    {
      "cell_type": "code",
      "metadata": {
        "id": "IK7XT3XoirSL",
        "colab": {
          "base_uri": "https://localhost:8080/",
          "height": 286
        },
        "outputId": "bb9ec809-d656-4667-9aec-8d36a87cd50a"
      },
      "source": [
        "# Code here!\n",
        "# display one random image from the training set:\n",
        "class_names =  ['airplane', 'automobile', 'bird', 'cat', 'deer', 'dog', 'frog', 'horse', 'ship', 'truck']\n",
        "\n",
        "idx = np.random.randint(0, X_train0.shape[0])\n",
        "print(idx)\n",
        "image = X_train0[idx]\n",
        "plt.imshow(image) #, cmap=plt.get_cmap('gray'))\n",
        "plt.title(class_names[y_train0[idx][0]])\n",
        "plt.xticks([])\n",
        "plt.yticks([])\n",
        "plt.show()"
      ],
      "execution_count": 6,
      "outputs": [
        {
          "output_type": "stream",
          "text": [
            "4894\n"
          ],
          "name": "stdout"
        },
        {
          "output_type": "display_data",
          "data": {
            "image/png": "[encoded data removed]",
            "text/plain": [
              "<Figure size 432x288 with 1 Axes>"
            ]
          },
          "metadata": {
            "tags": []
          }
        }
      ]
    },
    {
      "cell_type": "code",
      "metadata": {
        "id": "LzhD5pcukau7",
        "colab": {
          "base_uri": "https://localhost:8080/",
          "height": 325
        },
        "outputId": "53e850eb-a705-4e9f-a480-dac5ab941f17"
      },
      "source": [
        "fig = plt.figure(figsize=(10,6))\n",
        "num0_9 = np.unique(y_train0, return_index=True)[1]\n",
        "images = X_train[num0_9]\n",
        "for i in range(10):\n",
        "    plt.subplot(2, 5, i+1)\n",
        "    # num0_9 = X_train0[y_train0 == i]\n",
        "    \n",
        "    # print(num0_9.shape)\n",
        "    # plt.imshow(num0_9[0]) \n",
        "    plt.imshow(images[i])\n",
        "    plt.title(\"Class %d\" % (i))\n",
        "    plt.xticks([])\n",
        "    plt.yticks([])"
      ],
      "execution_count": 7,
      "outputs": [
        {
          "output_type": "display_data",
          "data": {
            "image/png": "[encoded data removed]",
            "text/plain": [
              "<Figure size 720x432 with 10 Axes>"
            ]
          },
          "metadata": {
            "tags": []
          }
        }
      ]
    },
    {
      "cell_type": "markdown",
      "metadata": {
        "id": "55DYVfFXi0WR"
      },
      "source": [
        "# Design CNN"
      ]
    },
    {
      "cell_type": "markdown",
      "metadata": {
        "id": "iPcLIcUCcsiG"
      },
      "source": [
        "### import models, layers, callbacks\n",
        "- models: Sequential\n",
        "- layers: Conv2D, MaxPool2D, Flatten\n",
        "- callbacks: ModelCheckpoint, EarlyStopping"
      ]
    },
    {
      "cell_type": "code",
      "metadata": {
        "id": "NzqMC4Xtc3ZE"
      },
      "source": [
        "from keras.models import Sequential\n",
        "from keras.layers import Conv2D, MaxPool2D, Flatten\n",
        "from keras.callbacks import ModelCheckpoint, EarlyStopping"
      ],
      "execution_count": 8,
      "outputs": []
    },
    {
      "cell_type": "markdown",
      "metadata": {
        "id": "7Z6DJJUCei-s"
      },
      "source": [
        "## **CNN2 + FCN2**"
      ]
    },
    {
      "cell_type": "code",
      "metadata": {
        "id": "pV3NFglM7P65"
      },
      "source": [
        "c2f2 = keras.models.Sequential([ \n",
        "    Conv2D(input_shape=(32,32,3),kernel_size=(3,3),strides=(1,1),filters= 32,padding='same',activation='relu'),\n",
        "    MaxPool2D(pool_size=(2,2), strides=(2,2)), \n",
        "    Conv2D(kernel_size=(3,3),strides=(1,1),filters= 64,padding='same',activation='relu'),\n",
        "    MaxPool2D(pool_size=(2,2), strides=(2,2)),\n",
        "    Flatten(), \n",
        "    keras.layers.Dense(128, activation='relu'),  \n",
        "    keras.layers.Dropout(0.25), \n",
        "    keras.layers.Dense(10, activation='softmax')\n",
        "])\n",
        "\n",
        "c2f2.compile(optimizer='adam',\n",
        "              loss='categorical_crossentropy',\n",
        "              metrics=['accuracy']) "
      ],
      "execution_count": 9,
      "outputs": []
    },
    {
      "cell_type": "code",
      "metadata": {
        "id": "OGtCiKy57YkR",
        "colab": {
          "base_uri": "https://localhost:8080/"
        },
        "outputId": "e6cbe5e6-92d0-472f-ed28-69b2fedf9d0d"
      },
      "source": [
        "c2f2.summary()"
      ],
      "execution_count": 10,
      "outputs": [
        {
          "output_type": "stream",
          "text": [
            "Model: \"sequential\"\n",
            "_________________________________________________________________\n",
            "Layer (type)                 Output Shape              Param #   \n",
            "=================================================================\n",
            "conv2d (Conv2D)              (None, 32, 32, 32)        896       \n",
            "_________________________________________________________________\n",
            "max_pooling2d (MaxPooling2D) (None, 16, 16, 32)        0         \n",
            "_________________________________________________________________\n",
            "conv2d_1 (Conv2D)            (None, 16, 16, 64)        18496     \n",
            "_________________________________________________________________\n",
            "max_pooling2d_1 (MaxPooling2 (None, 8, 8, 64)          0         \n",
            "_________________________________________________________________\n",
            "flatten (Flatten)            (None, 4096)              0         \n",
            "_________________________________________________________________\n",
            "dense (Dense)                (None, 128)               524416    \n",
            "_________________________________________________________________\n",
            "dropout (Dropout)            (None, 128)               0         \n",
            "_________________________________________________________________\n",
            "dense_1 (Dense)              (None, 10)                1290      \n",
            "=================================================================\n",
            "Total params: 545,098\n",
            "Trainable params: 545,098\n",
            "Non-trainable params: 0\n",
            "_________________________________________________________________\n"
          ],
          "name": "stdout"
        }
      ]
    },
    {
      "cell_type": "code",
      "metadata": {
        "id": "zw_pQPBdJmU8"
      },
      "source": [
        "cp_callback = callbacks.ModelCheckpoint(filepath=\"./cifar10_c2f2_best_weights.{epoch:03d}-{val_accuracy:.4f}.hdf5\", \n",
        "                              monitor='val_accuracy', verbose=0, save_best_only=True)\n",
        "es_callback = callbacks.EarlyStopping(monitor='val_accuracy', \n",
        "                            mode='max', verbose=1, patience=25)    # patience=10, 25, 50"
      ],
      "execution_count": 11,
      "outputs": []
    },
    {
      "cell_type": "code",
      "metadata": {
        "id": "94GWWQt-7eRS",
        "colab": {
          "base_uri": "https://localhost:8080/"
        },
        "outputId": "774aef2f-06fa-4399-9cac-88a07f64632f"
      },
      "source": [
        "hist = c2f2.fit(X_train, y_train, epochs = 500 , batch_size =32, \n",
        "         callbacks=[cp_callback, es_callback], \n",
        "         validation_data=(X_test,y_test))"
      ],
      "execution_count": 12,
      "outputs": [
        {
          "output_type": "stream",
          "text": [
            "Epoch 1/500\n",
            "1563/1563 [==============================] - 6s 4ms/step - loss: 1.5142 - accuracy: 0.4514 - val_loss: 1.2169 - val_accuracy: 0.5688\n",
            "Epoch 2/500\n",
            "1563/1563 [==============================] - 6s 4ms/step - loss: 1.1797 - accuracy: 0.5824 - val_loss: 1.0301 - val_accuracy: 0.6378\n",
            "Epoch 3/500\n",
            "1563/1563 [==============================] - 6s 4ms/step - loss: 1.0520 - accuracy: 0.6285 - val_loss: 0.9655 - val_accuracy: 0.6658\n",
            "Epoch 4/500\n",
            "1563/1563 [==============================] - 6s 4ms/step - loss: 0.9656 - accuracy: 0.6592 - val_loss: 0.9431 - val_accuracy: 0.6665\n",
            "Epoch 5/500\n",
            "1563/1563 [==============================] - 6s 4ms/step - loss: 0.8986 - accuracy: 0.6823 - val_loss: 0.8847 - val_accuracy: 0.6883\n",
            "Epoch 6/500\n",
            "1563/1563 [==============================] - 6s 4ms/step - loss: 0.8399 - accuracy: 0.7026 - val_loss: 0.8863 - val_accuracy: 0.6929\n",
            "Epoch 7/500\n",
            "1563/1563 [==============================] - 6s 4ms/step - loss: 0.7950 - accuracy: 0.7185 - val_loss: 0.8864 - val_accuracy: 0.6922\n",
            "Epoch 8/500\n",
            "1563/1563 [==============================] - 6s 4ms/step - loss: 0.7408 - accuracy: 0.7356 - val_loss: 0.8542 - val_accuracy: 0.7077\n",
            "Epoch 9/500\n",
            "1563/1563 [==============================] - 6s 4ms/step - loss: 0.6961 - accuracy: 0.7524 - val_loss: 0.8812 - val_accuracy: 0.7005\n",
            "Epoch 10/500\n",
            "1563/1563 [==============================] - 6s 4ms/step - loss: 0.6546 - accuracy: 0.7637 - val_loss: 0.8703 - val_accuracy: 0.7073\n",
            "Epoch 11/500\n",
            "1563/1563 [==============================] - 6s 4ms/step - loss: 0.6061 - accuracy: 0.7802 - val_loss: 0.9111 - val_accuracy: 0.6967\n",
            "Epoch 12/500\n",
            "1563/1563 [==============================] - 6s 4ms/step - loss: 0.5711 - accuracy: 0.7953 - val_loss: 0.9192 - val_accuracy: 0.7074\n",
            "Epoch 13/500\n",
            "1563/1563 [==============================] - 5s 3ms/step - loss: 0.5423 - accuracy: 0.8020 - val_loss: 0.9491 - val_accuracy: 0.7033\n",
            "Epoch 14/500\n",
            "1563/1563 [==============================] - 6s 4ms/step - loss: 0.5078 - accuracy: 0.8146 - val_loss: 0.9428 - val_accuracy: 0.7075\n",
            "Epoch 15/500\n",
            "1563/1563 [==============================] - 6s 4ms/step - loss: 0.4729 - accuracy: 0.8268 - val_loss: 0.9709 - val_accuracy: 0.7072\n",
            "Epoch 16/500\n",
            "1563/1563 [==============================] - 6s 4ms/step - loss: 0.4497 - accuracy: 0.8338 - val_loss: 1.0193 - val_accuracy: 0.7050\n",
            "Epoch 17/500\n",
            "1563/1563 [==============================] - 5s 3ms/step - loss: 0.4191 - accuracy: 0.8463 - val_loss: 1.0298 - val_accuracy: 0.7072\n",
            "Epoch 18/500\n",
            "1563/1563 [==============================] - 5s 4ms/step - loss: 0.3980 - accuracy: 0.8543 - val_loss: 1.0695 - val_accuracy: 0.7014\n",
            "Epoch 19/500\n",
            "1563/1563 [==============================] - 6s 4ms/step - loss: 0.3782 - accuracy: 0.8620 - val_loss: 1.0917 - val_accuracy: 0.6985\n",
            "Epoch 20/500\n",
            "1563/1563 [==============================] - 6s 4ms/step - loss: 0.3663 - accuracy: 0.8649 - val_loss: 1.1322 - val_accuracy: 0.6997\n",
            "Epoch 21/500\n",
            "1563/1563 [==============================] - 6s 4ms/step - loss: 0.3471 - accuracy: 0.8725 - val_loss: 1.1597 - val_accuracy: 0.6960\n",
            "Epoch 22/500\n",
            "1563/1563 [==============================] - 5s 4ms/step - loss: 0.3338 - accuracy: 0.8765 - val_loss: 1.2407 - val_accuracy: 0.7061\n",
            "Epoch 23/500\n",
            "1563/1563 [==============================] - 6s 4ms/step - loss: 0.3232 - accuracy: 0.8814 - val_loss: 1.2275 - val_accuracy: 0.7032\n",
            "Epoch 24/500\n",
            "1563/1563 [==============================] - 5s 3ms/step - loss: 0.3094 - accuracy: 0.8864 - val_loss: 1.2555 - val_accuracy: 0.7047\n",
            "Epoch 25/500\n",
            "1563/1563 [==============================] - 5s 3ms/step - loss: 0.2968 - accuracy: 0.8902 - val_loss: 1.3386 - val_accuracy: 0.6989\n",
            "Epoch 26/500\n",
            "1563/1563 [==============================] - 5s 3ms/step - loss: 0.2906 - accuracy: 0.8926 - val_loss: 1.3329 - val_accuracy: 0.6981\n",
            "Epoch 27/500\n",
            "1563/1563 [==============================] - 5s 3ms/step - loss: 0.2754 - accuracy: 0.9003 - val_loss: 1.4359 - val_accuracy: 0.6990\n",
            "Epoch 28/500\n",
            "1563/1563 [==============================] - 5s 3ms/step - loss: 0.2730 - accuracy: 0.8994 - val_loss: 1.3984 - val_accuracy: 0.6939\n",
            "Epoch 29/500\n",
            "1563/1563 [==============================] - 5s 3ms/step - loss: 0.2597 - accuracy: 0.9048 - val_loss: 1.4289 - val_accuracy: 0.6959\n",
            "Epoch 30/500\n",
            "1563/1563 [==============================] - 5s 3ms/step - loss: 0.2488 - accuracy: 0.9093 - val_loss: 1.4614 - val_accuracy: 0.6998\n",
            "Epoch 31/500\n",
            "1563/1563 [==============================] - 5s 3ms/step - loss: 0.2451 - accuracy: 0.9105 - val_loss: 1.4919 - val_accuracy: 0.6924\n",
            "Epoch 32/500\n",
            "1563/1563 [==============================] - 6s 4ms/step - loss: 0.2455 - accuracy: 0.9102 - val_loss: 1.4741 - val_accuracy: 0.7008\n",
            "Epoch 33/500\n",
            "1563/1563 [==============================] - 5s 3ms/step - loss: 0.2336 - accuracy: 0.9150 - val_loss: 1.5882 - val_accuracy: 0.6998\n",
            "Epoch 00033: early stopping\n"
          ],
          "name": "stdout"
        }
      ]
    },
    {
      "cell_type": "code",
      "metadata": {
        "id": "0-7is2U49A6Z",
        "colab": {
          "base_uri": "https://localhost:8080/"
        },
        "outputId": "39213ee7-f7bc-45db-f68b-15818a5621b3"
      },
      "source": [
        "c2f2.evaluate(X_test, y_test, batch_size =32)"
      ],
      "execution_count": 13,
      "outputs": [
        {
          "output_type": "stream",
          "text": [
            "313/313 [==============================] - 1s 3ms/step - loss: 1.5882 - accuracy: 0.6998\n"
          ],
          "name": "stdout"
        },
        {
          "output_type": "execute_result",
          "data": {
            "text/plain": [
              "[1.5881856679916382, 0.6998000144958496]"
            ]
          },
          "metadata": {
            "tags": []
          },
          "execution_count": 13
        }
      ]
    },
    {
      "cell_type": "markdown",
      "metadata": {
        "id": "SUJxRQtafihM"
      },
      "source": [
        "## **CNN2 + FCN3**"
      ]
    },
    {
      "cell_type": "code",
      "metadata": {
        "id": "Nl5CyAymAB34"
      },
      "source": [
        "c2f3 = keras.models.Sequential([ \n",
        "    Conv2D(input_shape=(32,32,3),kernel_size=(3,3),strides=(1,1),filters= 32,padding='same',activation='relu'),\n",
        "    MaxPool2D(pool_size=(2,2), strides=(2,2)), \n",
        "    Conv2D(kernel_size=(3,3),strides=(1,1),filters= 64,padding='same',activation='relu'),\n",
        "    MaxPool2D(pool_size=(2,2), strides=(2,2)),\n",
        "    Flatten(), \n",
        "    keras.layers.Dense(128, activation='relu'),  \n",
        "    keras.layers.Dropout(0.25), \n",
        "    keras.layers.Dense(64, activation='relu'),  \n",
        "    keras.layers.Dropout(0.25), \n",
        "    keras.layers.Dense(10, activation='softmax')\n",
        "])\n",
        "\n",
        "c2f3.compile(optimizer='adam',\n",
        "              loss='categorical_crossentropy',\n",
        "              metrics=['accuracy']) "
      ],
      "execution_count": 15,
      "outputs": []
    },
    {
      "cell_type": "code",
      "metadata": {
        "id": "gYxuGW_2ANL8",
        "colab": {
          "base_uri": "https://localhost:8080/"
        },
        "outputId": "3cc534cb-b241-4ffd-f80a-822ee802bd9f"
      },
      "source": [
        "c2f3.summary()"
      ],
      "execution_count": 16,
      "outputs": [
        {
          "output_type": "stream",
          "text": [
            "Model: \"sequential_2\"\n",
            "_________________________________________________________________\n",
            "Layer (type)                 Output Shape              Param #   \n",
            "=================================================================\n",
            "conv2d_4 (Conv2D)            (None, 32, 32, 32)        896       \n",
            "_________________________________________________________________\n",
            "max_pooling2d_4 (MaxPooling2 (None, 16, 16, 32)        0         \n",
            "_________________________________________________________________\n",
            "conv2d_5 (Conv2D)            (None, 16, 16, 64)        18496     \n",
            "_________________________________________________________________\n",
            "max_pooling2d_5 (MaxPooling2 (None, 8, 8, 64)          0         \n",
            "_________________________________________________________________\n",
            "flatten_2 (Flatten)          (None, 4096)              0         \n",
            "_________________________________________________________________\n",
            "dense_5 (Dense)              (None, 128)               524416    \n",
            "_________________________________________________________________\n",
            "dropout_3 (Dropout)          (None, 128)               0         \n",
            "_________________________________________________________________\n",
            "dense_6 (Dense)              (None, 64)                8256      \n",
            "_________________________________________________________________\n",
            "dropout_4 (Dropout)          (None, 64)                0         \n",
            "_________________________________________________________________\n",
            "dense_7 (Dense)              (None, 10)                650       \n",
            "=================================================================\n",
            "Total params: 552,714\n",
            "Trainable params: 552,714\n",
            "Non-trainable params: 0\n",
            "_________________________________________________________________\n"
          ],
          "name": "stdout"
        }
      ]
    },
    {
      "cell_type": "code",
      "metadata": {
        "id": "KMsTuhO2x61z"
      },
      "source": [
        "cp_callback = callbacks.ModelCheckpoint(filepath=\"./cifar10_c2f3_best_weights.{epoch:03d}-{val_accuracy:.4f}.hdf5\", \n",
        "                              monitor='val_accuracy', verbose=0, save_best_only=True)\n",
        "es_callback = callbacks.EarlyStopping(monitor='val_accuracy', \n",
        "                            mode='max', verbose=1, patience=25)    # patience=10, 25, 50"
      ],
      "execution_count": 17,
      "outputs": []
    },
    {
      "cell_type": "code",
      "metadata": {
        "id": "lO1of4AOAQlV",
        "colab": {
          "base_uri": "https://localhost:8080/"
        },
        "outputId": "5b4e8b3b-6043-491b-8c62-863a6e002227"
      },
      "source": [
        "c2f3.fit(X_train, y_train, epochs=500, batch_size =32, \n",
        "         callbacks=[cp_callback, es_callback], \n",
        "         validation_data=(X_test,y_test))"
      ],
      "execution_count": 18,
      "outputs": [
        {
          "output_type": "stream",
          "text": [
            "Epoch 1/500\n",
            "1563/1563 [==============================] - 6s 4ms/step - loss: 1.5601 - accuracy: 0.4331 - val_loss: 1.1729 - val_accuracy: 0.5879\n",
            "Epoch 2/500\n",
            "1563/1563 [==============================] - 6s 4ms/step - loss: 1.1950 - accuracy: 0.5773 - val_loss: 1.0149 - val_accuracy: 0.6486\n",
            "Epoch 3/500\n",
            "1563/1563 [==============================] - 6s 4ms/step - loss: 1.0555 - accuracy: 0.6307 - val_loss: 0.9433 - val_accuracy: 0.6807\n",
            "Epoch 4/500\n",
            "1563/1563 [==============================] - 6s 4ms/step - loss: 0.9663 - accuracy: 0.6647 - val_loss: 0.9381 - val_accuracy: 0.6754\n",
            "Epoch 5/500\n",
            "1563/1563 [==============================] - 6s 4ms/step - loss: 0.8972 - accuracy: 0.6890 - val_loss: 0.8745 - val_accuracy: 0.7001\n",
            "Epoch 6/500\n",
            "1563/1563 [==============================] - 6s 4ms/step - loss: 0.8342 - accuracy: 0.7102 - val_loss: 0.8825 - val_accuracy: 0.6987\n",
            "Epoch 7/500\n",
            "1563/1563 [==============================] - 6s 4ms/step - loss: 0.7849 - accuracy: 0.7282 - val_loss: 0.9028 - val_accuracy: 0.6917\n",
            "Epoch 8/500\n",
            "1563/1563 [==============================] - 6s 4ms/step - loss: 0.7417 - accuracy: 0.7411 - val_loss: 0.8816 - val_accuracy: 0.7035\n",
            "Epoch 9/500\n",
            "1563/1563 [==============================] - 6s 4ms/step - loss: 0.6943 - accuracy: 0.7572 - val_loss: 0.8693 - val_accuracy: 0.7065\n",
            "Epoch 10/500\n",
            "1563/1563 [==============================] - 6s 4ms/step - loss: 0.6545 - accuracy: 0.7725 - val_loss: 0.8363 - val_accuracy: 0.7211\n",
            "Epoch 11/500\n",
            "1563/1563 [==============================] - 6s 4ms/step - loss: 0.6253 - accuracy: 0.7827 - val_loss: 0.8626 - val_accuracy: 0.7183\n",
            "Epoch 12/500\n",
            "1563/1563 [==============================] - 6s 4ms/step - loss: 0.5934 - accuracy: 0.7929 - val_loss: 0.8827 - val_accuracy: 0.7164\n",
            "Epoch 13/500\n",
            "1563/1563 [==============================] - 6s 4ms/step - loss: 0.5697 - accuracy: 0.7986 - val_loss: 0.8855 - val_accuracy: 0.7183\n",
            "Epoch 14/500\n",
            "1563/1563 [==============================] - 6s 4ms/step - loss: 0.5456 - accuracy: 0.8075 - val_loss: 0.9261 - val_accuracy: 0.7108\n",
            "Epoch 15/500\n",
            "1563/1563 [==============================] - 6s 4ms/step - loss: 0.5221 - accuracy: 0.8140 - val_loss: 0.9317 - val_accuracy: 0.7052\n",
            "Epoch 16/500\n",
            "1563/1563 [==============================] - 6s 4ms/step - loss: 0.5025 - accuracy: 0.8201 - val_loss: 0.9428 - val_accuracy: 0.7191\n",
            "Epoch 17/500\n",
            "1563/1563 [==============================] - 6s 4ms/step - loss: 0.4862 - accuracy: 0.8291 - val_loss: 0.9505 - val_accuracy: 0.7208\n",
            "Epoch 18/500\n",
            "1563/1563 [==============================] - 6s 4ms/step - loss: 0.4665 - accuracy: 0.8359 - val_loss: 0.9590 - val_accuracy: 0.7134\n",
            "Epoch 19/500\n",
            "1563/1563 [==============================] - 6s 4ms/step - loss: 0.4458 - accuracy: 0.8420 - val_loss: 1.0160 - val_accuracy: 0.7086\n",
            "Epoch 20/500\n",
            "1563/1563 [==============================] - 6s 4ms/step - loss: 0.4303 - accuracy: 0.8483 - val_loss: 1.0181 - val_accuracy: 0.7156\n",
            "Epoch 21/500\n",
            "1563/1563 [==============================] - 6s 4ms/step - loss: 0.4194 - accuracy: 0.8519 - val_loss: 1.0552 - val_accuracy: 0.7079\n",
            "Epoch 22/500\n",
            "1563/1563 [==============================] - 6s 4ms/step - loss: 0.4035 - accuracy: 0.8571 - val_loss: 1.0365 - val_accuracy: 0.7175\n",
            "Epoch 23/500\n",
            "1563/1563 [==============================] - 6s 4ms/step - loss: 0.3963 - accuracy: 0.8596 - val_loss: 1.0779 - val_accuracy: 0.7126\n",
            "Epoch 24/500\n",
            "1563/1563 [==============================] - 6s 4ms/step - loss: 0.3798 - accuracy: 0.8660 - val_loss: 1.0874 - val_accuracy: 0.7146\n",
            "Epoch 25/500\n",
            "1563/1563 [==============================] - 6s 4ms/step - loss: 0.3640 - accuracy: 0.8711 - val_loss: 1.1118 - val_accuracy: 0.7135\n",
            "Epoch 26/500\n",
            "1563/1563 [==============================] - 6s 4ms/step - loss: 0.3533 - accuracy: 0.8752 - val_loss: 1.1673 - val_accuracy: 0.7112\n",
            "Epoch 27/500\n",
            "1563/1563 [==============================] - 6s 4ms/step - loss: 0.3509 - accuracy: 0.8759 - val_loss: 1.1466 - val_accuracy: 0.7168\n",
            "Epoch 28/500\n",
            "1563/1563 [==============================] - 6s 4ms/step - loss: 0.3377 - accuracy: 0.8808 - val_loss: 1.2155 - val_accuracy: 0.7173\n",
            "Epoch 29/500\n",
            "1563/1563 [==============================] - 6s 4ms/step - loss: 0.3340 - accuracy: 0.8824 - val_loss: 1.1557 - val_accuracy: 0.7159\n",
            "Epoch 30/500\n",
            "1563/1563 [==============================] - 6s 4ms/step - loss: 0.3271 - accuracy: 0.8856 - val_loss: 1.1359 - val_accuracy: 0.7177\n",
            "Epoch 31/500\n",
            "1563/1563 [==============================] - 6s 4ms/step - loss: 0.3193 - accuracy: 0.8887 - val_loss: 1.2450 - val_accuracy: 0.7158\n",
            "Epoch 32/500\n",
            "1563/1563 [==============================] - 6s 4ms/step - loss: 0.3125 - accuracy: 0.8904 - val_loss: 1.2688 - val_accuracy: 0.7103\n",
            "Epoch 33/500\n",
            "1563/1563 [==============================] - 6s 4ms/step - loss: 0.3002 - accuracy: 0.8947 - val_loss: 1.2551 - val_accuracy: 0.7186\n",
            "Epoch 34/500\n",
            "1563/1563 [==============================] - 6s 4ms/step - loss: 0.2899 - accuracy: 0.8970 - val_loss: 1.3195 - val_accuracy: 0.7118\n",
            "Epoch 35/500\n",
            "1563/1563 [==============================] - 6s 4ms/step - loss: 0.2931 - accuracy: 0.8960 - val_loss: 1.3127 - val_accuracy: 0.7127\n",
            "Epoch 00035: early stopping\n"
          ],
          "name": "stdout"
        },
        {
          "output_type": "execute_result",
          "data": {
            "text/plain": [
              "<tensorflow.python.keras.callbacks.History at 0x7fca5e28f828>"
            ]
          },
          "metadata": {
            "tags": []
          },
          "execution_count": 18
        }
      ]
    },
    {
      "cell_type": "code",
      "metadata": {
        "id": "W-eIxCasDBil",
        "colab": {
          "base_uri": "https://localhost:8080/"
        },
        "outputId": "5cc694c4-9359-44cd-b2f9-389fbe08c6c4"
      },
      "source": [
        " c2f3.evaluate(X_test, y_test, batch_size = 32)"
      ],
      "execution_count": 19,
      "outputs": [
        {
          "output_type": "stream",
          "text": [
            "313/313 [==============================] - 1s 2ms/step - loss: 1.3127 - accuracy: 0.7127\n"
          ],
          "name": "stdout"
        },
        {
          "output_type": "execute_result",
          "data": {
            "text/plain": [
              "[1.3127195835113525, 0.7127000093460083]"
            ]
          },
          "metadata": {
            "tags": []
          },
          "execution_count": 19
        }
      ]
    },
    {
      "cell_type": "markdown",
      "metadata": {
        "id": "5XYSVtC-DVsz"
      },
      "source": [
        "# **[DIY] Hidden layer에 따른 정확도**"
      ]
    },
    {
      "cell_type": "code",
      "metadata": {
        "id": "OiCc_UO2rGmp",
        "colab": {
          "base_uri": "https://localhost:8080/"
        },
        "outputId": "bbd1ff6b-8dfd-4ae1-e935-5b27a57db292"
      },
      "source": [
        "score1=c2f2.evaluate(X_test, y_test, batch_size = 32)\n",
        "score2=c2f3.evaluate(X_test, y_test, batch_size = 32)\n",
        "losses = [score1[0],score2[0]]\n",
        "accuracies= [score1[1],score2[1]]\n",
        "losses,accuracies"
      ],
      "execution_count": 20,
      "outputs": [
        {
          "output_type": "stream",
          "text": [
            "313/313 [==============================] - 1s 2ms/step - loss: 1.5882 - accuracy: 0.6998\n",
            "313/313 [==============================] - 1s 2ms/step - loss: 1.3127 - accuracy: 0.7127\n"
          ],
          "name": "stdout"
        },
        {
          "output_type": "execute_result",
          "data": {
            "text/plain": [
              "([1.5881856679916382, 1.3127195835113525],\n",
              " [0.6998000144958496, 0.7127000093460083])"
            ]
          },
          "metadata": {
            "tags": []
          },
          "execution_count": 20
        }
      ]
    },
    {
      "cell_type": "code",
      "metadata": {
        "id": "vZv6a2aVRw9j",
        "colab": {
          "base_uri": "https://localhost:8080/",
          "height": 269
        },
        "outputId": "84962fbb-ecf8-4138-b119-4cdf8ddba211"
      },
      "source": [
        "x = np.arange(2)\n",
        "cnns = ['C2F2','C2F3']\n",
        "\n",
        "plt.bar(x, accuracies)\n",
        "plt.xticks(x, cnns)\n",
        "plt.ylim((.5,1.0))\n",
        "plt.show()"
      ],
      "execution_count": 21,
      "outputs": [
        {
          "output_type": "display_data",
          "data": {
            "image/png": "[encoded data removed]",
            "text/plain": [
              "<Figure size 432x288 with 1 Axes>"
            ]
          },
          "metadata": {
            "tags": [],
            "needs_background": "light"
          }
        }
      ]
    },
    {
      "cell_type": "markdown",
      "metadata": {
        "id": "63oPbpPejqOj"
      },
      "source": [
        "## Complex model\n",
        "- C4F5 model\n",
        "\n",
        "![cnn_c4f5.png](https://raw.githubusercontent.com/Redwoods/Py/master//pdm2020/my-note/py-tensorflow/images/cnn_c4f5.png)"
      ]
    },
    {
      "cell_type": "code",
      "metadata": {
        "id": "kSN8pq8DkQ6B"
      },
      "source": [
        "c4f5 = keras.models.Sequential([ \n",
        "    Conv2D(input_shape=(32,32,3),kernel_size=(3,3),strides=(1,1),filters= 64,padding='same',activation='relu'),\n",
        "    MaxPool2D(pool_size=(2,2), strides=(2,2)), \n",
        "    Conv2D(kernel_size=(3,3),strides=(1,1),filters= 128,padding='same',activation='relu'),\n",
        "    MaxPool2D(pool_size=(2,2), strides=(2,2)),\n",
        "    Conv2D(kernel_size=(3,3),strides=(1,1),filters= 256,padding='same',activation='relu'),\n",
        "    MaxPool2D(pool_size=(2,2), strides=(2,2)),\n",
        "    Conv2D(kernel_size=(3,3),strides=(1,1),filters= 512,padding='same',activation='relu'),\n",
        "    MaxPool2D(pool_size=(2,2), strides=(2,2)),\n",
        "    Flatten(), \n",
        "    keras.layers.Dense(128, activation='relu'),  \n",
        "    keras.layers.Dropout(0.25), \n",
        "    keras.layers.Dense(256, activation='relu'),  \n",
        "    keras.layers.Dropout(0.25), \n",
        "    keras.layers.Dense(512, activation='relu'),  \n",
        "    keras.layers.Dropout(0.25), \n",
        "    keras.layers.Dense(1024, activation='relu'),  \n",
        "    keras.layers.Dropout(0.25), \n",
        "    keras.layers.Dense(10, activation='softmax')\n",
        "])\n",
        "\n",
        "c4f5.compile(optimizer='adam',\n",
        "              loss='categorical_crossentropy',\n",
        "              metrics=['accuracy']) "
      ],
      "execution_count": 22,
      "outputs": []
    },
    {
      "cell_type": "code",
      "metadata": {
        "colab": {
          "base_uri": "https://localhost:8080/"
        },
        "id": "k7qWzpLRkQ6C",
        "outputId": "778675ce-dd1a-4f7d-a4e4-4d3d17916624"
      },
      "source": [
        "c4f5.summary()"
      ],
      "execution_count": 23,
      "outputs": [
        {
          "output_type": "stream",
          "text": [
            "Model: \"sequential_3\"\n",
            "_________________________________________________________________\n",
            "Layer (type)                 Output Shape              Param #   \n",
            "=================================================================\n",
            "conv2d_6 (Conv2D)            (None, 32, 32, 64)        1792      \n",
            "_________________________________________________________________\n",
            "max_pooling2d_6 (MaxPooling2 (None, 16, 16, 64)        0         \n",
            "_________________________________________________________________\n",
            "conv2d_7 (Conv2D)            (None, 16, 16, 128)       73856     \n",
            "_________________________________________________________________\n",
            "max_pooling2d_7 (MaxPooling2 (None, 8, 8, 128)         0         \n",
            "_________________________________________________________________\n",
            "conv2d_8 (Conv2D)            (None, 8, 8, 256)         295168    \n",
            "_________________________________________________________________\n",
            "max_pooling2d_8 (MaxPooling2 (None, 4, 4, 256)         0         \n",
            "_________________________________________________________________\n",
            "conv2d_9 (Conv2D)            (None, 4, 4, 512)         1180160   \n",
            "_________________________________________________________________\n",
            "max_pooling2d_9 (MaxPooling2 (None, 2, 2, 512)         0         \n",
            "_________________________________________________________________\n",
            "flatten_3 (Flatten)          (None, 2048)              0         \n",
            "_________________________________________________________________\n",
            "dense_8 (Dense)              (None, 128)               262272    \n",
            "_________________________________________________________________\n",
            "dropout_5 (Dropout)          (None, 128)               0         \n",
            "_________________________________________________________________\n",
            "dense_9 (Dense)              (None, 256)               33024     \n",
            "_________________________________________________________________\n",
            "dropout_6 (Dropout)          (None, 256)               0         \n",
            "_________________________________________________________________\n",
            "dense_10 (Dense)             (None, 512)               131584    \n",
            "_________________________________________________________________\n",
            "dropout_7 (Dropout)          (None, 512)               0         \n",
            "_________________________________________________________________\n",
            "dense_11 (Dense)             (None, 1024)              525312    \n",
            "_________________________________________________________________\n",
            "dropout_8 (Dropout)          (None, 1024)              0         \n",
            "_________________________________________________________________\n",
            "dense_12 (Dense)             (None, 10)                10250     \n",
            "=================================================================\n",
            "Total params: 2,513,418\n",
            "Trainable params: 2,513,418\n",
            "Non-trainable params: 0\n",
            "_________________________________________________________________\n"
          ],
          "name": "stdout"
        }
      ]
    },
    {
      "cell_type": "code",
      "metadata": {
        "id": "-pKJWy-2kQ6C"
      },
      "source": [
        "cp_callback = callbacks.ModelCheckpoint(filepath=\"./cifar10_c4f5_best_weights.{epoch:03d}-{val_accuracy:.4f}.hdf5\", \n",
        "                              monitor='val_accuracy', verbose=0, save_best_only=True)\n",
        "es_callback = callbacks.EarlyStopping(monitor='val_accuracy', \n",
        "                            mode='max', verbose=1, patience=25)    # patience=10, 25, 50"
      ],
      "execution_count": 24,
      "outputs": []
    },
    {
      "cell_type": "code",
      "metadata": {
        "colab": {
          "base_uri": "https://localhost:8080/"
        },
        "id": "wKdgr9EskQ6C",
        "outputId": "1110f944-733d-4809-997b-ea5836ba9149"
      },
      "source": [
        "c4f5.fit(X_train, y_train, epochs=500, batch_size =32, \n",
        "         callbacks=[cp_callback, es_callback], \n",
        "         validation_data=(X_test,y_test))"
      ],
      "execution_count": 25,
      "outputs": [
        {
          "output_type": "stream",
          "text": [
            "Epoch 1/500\n",
            "1563/1563 [==============================] - 11s 7ms/step - loss: 1.7309 - accuracy: 0.3325 - val_loss: 1.3443 - val_accuracy: 0.5019\n",
            "Epoch 2/500\n",
            "1563/1563 [==============================] - 11s 7ms/step - loss: 1.2697 - accuracy: 0.5487 - val_loss: 1.0801 - val_accuracy: 0.6212\n",
            "Epoch 3/500\n",
            "1563/1563 [==============================] - 11s 7ms/step - loss: 1.0792 - accuracy: 0.6260 - val_loss: 0.9971 - val_accuracy: 0.6548\n",
            "Epoch 4/500\n",
            "1563/1563 [==============================] - 11s 7ms/step - loss: 0.9519 - accuracy: 0.6731 - val_loss: 1.0291 - val_accuracy: 0.6549\n",
            "Epoch 5/500\n",
            "1563/1563 [==============================] - 11s 7ms/step - loss: 0.8665 - accuracy: 0.7068 - val_loss: 0.9245 - val_accuracy: 0.6909\n",
            "Epoch 6/500\n",
            "1563/1563 [==============================] - 11s 7ms/step - loss: 0.7934 - accuracy: 0.7336 - val_loss: 0.9812 - val_accuracy: 0.6801\n",
            "Epoch 7/500\n",
            "1563/1563 [==============================] - 11s 7ms/step - loss: 0.7315 - accuracy: 0.7571 - val_loss: 0.8738 - val_accuracy: 0.7166\n",
            "Epoch 8/500\n",
            "1563/1563 [==============================] - 11s 7ms/step - loss: 0.6818 - accuracy: 0.7737 - val_loss: 0.8752 - val_accuracy: 0.7134\n",
            "Epoch 9/500\n",
            "1563/1563 [==============================] - 11s 7ms/step - loss: 0.6430 - accuracy: 0.7885 - val_loss: 0.8784 - val_accuracy: 0.7141\n",
            "Epoch 10/500\n",
            "1563/1563 [==============================] - 11s 7ms/step - loss: 0.5934 - accuracy: 0.8053 - val_loss: 0.8380 - val_accuracy: 0.7325\n",
            "Epoch 11/500\n",
            "1563/1563 [==============================] - 11s 7ms/step - loss: 0.5615 - accuracy: 0.8177 - val_loss: 0.8420 - val_accuracy: 0.7302\n",
            "Epoch 12/500\n",
            "1563/1563 [==============================] - 11s 7ms/step - loss: 0.5340 - accuracy: 0.8277 - val_loss: 0.8536 - val_accuracy: 0.7282\n",
            "Epoch 13/500\n",
            "1563/1563 [==============================] - 11s 7ms/step - loss: 0.5027 - accuracy: 0.8388 - val_loss: 0.9309 - val_accuracy: 0.7186\n",
            "Epoch 14/500\n",
            "1563/1563 [==============================] - 11s 7ms/step - loss: 0.4838 - accuracy: 0.8453 - val_loss: 0.9057 - val_accuracy: 0.7265\n",
            "Epoch 15/500\n",
            "1563/1563 [==============================] - 11s 7ms/step - loss: 0.4485 - accuracy: 0.8562 - val_loss: 0.9265 - val_accuracy: 0.7196\n",
            "Epoch 16/500\n",
            "1563/1563 [==============================] - 11s 7ms/step - loss: 0.4454 - accuracy: 0.8605 - val_loss: 0.9162 - val_accuracy: 0.7231\n",
            "Epoch 17/500\n",
            "1563/1563 [==============================] - 11s 7ms/step - loss: 0.4126 - accuracy: 0.8714 - val_loss: 0.9495 - val_accuracy: 0.7207\n",
            "Epoch 18/500\n",
            "1563/1563 [==============================] - 11s 7ms/step - loss: 0.4086 - accuracy: 0.8723 - val_loss: 0.9952 - val_accuracy: 0.7217\n",
            "Epoch 19/500\n",
            "1563/1563 [==============================] - 11s 7ms/step - loss: 0.3954 - accuracy: 0.8773 - val_loss: 0.9219 - val_accuracy: 0.7202\n",
            "Epoch 20/500\n",
            "1563/1563 [==============================] - 11s 7ms/step - loss: 0.3777 - accuracy: 0.8833 - val_loss: 0.9476 - val_accuracy: 0.7352\n",
            "Epoch 21/500\n",
            "1563/1563 [==============================] - 11s 7ms/step - loss: 0.3881 - accuracy: 0.8820 - val_loss: 0.9410 - val_accuracy: 0.7404\n",
            "Epoch 22/500\n",
            "1563/1563 [==============================] - 11s 7ms/step - loss: 0.3634 - accuracy: 0.8908 - val_loss: 0.9980 - val_accuracy: 0.7247\n",
            "Epoch 23/500\n",
            "1563/1563 [==============================] - 11s 7ms/step - loss: 0.3566 - accuracy: 0.8910 - val_loss: 0.9566 - val_accuracy: 0.7179\n",
            "Epoch 24/500\n",
            "1563/1563 [==============================] - 11s 7ms/step - loss: 0.3505 - accuracy: 0.8938 - val_loss: 0.9768 - val_accuracy: 0.7310\n",
            "Epoch 25/500\n",
            "1563/1563 [==============================] - 11s 7ms/step - loss: 0.3458 - accuracy: 0.8971 - val_loss: 0.9908 - val_accuracy: 0.7190\n",
            "Epoch 26/500\n",
            "1563/1563 [==============================] - 11s 7ms/step - loss: 0.3240 - accuracy: 0.9033 - val_loss: 0.9582 - val_accuracy: 0.7205\n",
            "Epoch 27/500\n",
            "1563/1563 [==============================] - 11s 7ms/step - loss: 0.3243 - accuracy: 0.9031 - val_loss: 1.0875 - val_accuracy: 0.7100\n",
            "Epoch 28/500\n",
            "1563/1563 [==============================] - 11s 7ms/step - loss: 0.3167 - accuracy: 0.9071 - val_loss: 1.0507 - val_accuracy: 0.7250\n",
            "Epoch 29/500\n",
            "1563/1563 [==============================] - 11s 7ms/step - loss: 0.3069 - accuracy: 0.9104 - val_loss: 0.9973 - val_accuracy: 0.7316\n",
            "Epoch 30/500\n",
            "1563/1563 [==============================] - 11s 7ms/step - loss: 0.2988 - accuracy: 0.9113 - val_loss: 0.9932 - val_accuracy: 0.7269\n",
            "Epoch 31/500\n",
            "1563/1563 [==============================] - 11s 7ms/step - loss: 0.3014 - accuracy: 0.9131 - val_loss: 1.0306 - val_accuracy: 0.7166\n",
            "Epoch 32/500\n",
            "1563/1563 [==============================] - 11s 7ms/step - loss: 0.2837 - accuracy: 0.9172 - val_loss: 1.0465 - val_accuracy: 0.7318\n",
            "Epoch 33/500\n",
            "1563/1563 [==============================] - 11s 7ms/step - loss: 0.3189 - accuracy: 0.9087 - val_loss: 1.0762 - val_accuracy: 0.7030\n",
            "Epoch 34/500\n",
            "1563/1563 [==============================] - 11s 7ms/step - loss: 0.2833 - accuracy: 0.9194 - val_loss: 1.0576 - val_accuracy: 0.7316\n",
            "Epoch 35/500\n",
            "1563/1563 [==============================] - 11s 7ms/step - loss: 0.2863 - accuracy: 0.9192 - val_loss: 1.0358 - val_accuracy: 0.7281\n",
            "Epoch 36/500\n",
            "1563/1563 [==============================] - 12s 7ms/step - loss: 0.3004 - accuracy: 0.9147 - val_loss: 1.0836 - val_accuracy: 0.7199\n",
            "Epoch 37/500\n",
            "1563/1563 [==============================] - 12s 7ms/step - loss: 0.2884 - accuracy: 0.9193 - val_loss: 1.1075 - val_accuracy: 0.7209\n",
            "Epoch 38/500\n",
            "1563/1563 [==============================] - 12s 7ms/step - loss: 0.2901 - accuracy: 0.9188 - val_loss: 1.0640 - val_accuracy: 0.7295\n",
            "Epoch 39/500\n",
            "1563/1563 [==============================] - 11s 7ms/step - loss: 0.2869 - accuracy: 0.9206 - val_loss: 1.0585 - val_accuracy: 0.7358\n",
            "Epoch 40/500\n",
            "1563/1563 [==============================] - 12s 7ms/step - loss: 0.2785 - accuracy: 0.9234 - val_loss: 1.0158 - val_accuracy: 0.7233\n",
            "Epoch 41/500\n",
            "1563/1563 [==============================] - 11s 7ms/step - loss: 0.3219 - accuracy: 0.9095 - val_loss: 1.0879 - val_accuracy: 0.7232\n",
            "Epoch 42/500\n",
            "1563/1563 [==============================] - 11s 7ms/step - loss: 0.2758 - accuracy: 0.9242 - val_loss: 1.1032 - val_accuracy: 0.7127\n",
            "Epoch 43/500\n",
            "1563/1563 [==============================] - 11s 7ms/step - loss: 0.2567 - accuracy: 0.9294 - val_loss: 1.1482 - val_accuracy: 0.7276\n",
            "Epoch 44/500\n",
            "1563/1563 [==============================] - 11s 7ms/step - loss: 0.2800 - accuracy: 0.9238 - val_loss: 1.0471 - val_accuracy: 0.7351\n",
            "Epoch 45/500\n",
            "1563/1563 [==============================] - 11s 7ms/step - loss: 0.2733 - accuracy: 0.9248 - val_loss: 1.0751 - val_accuracy: 0.7257\n",
            "Epoch 46/500\n",
            "1563/1563 [==============================] - 11s 7ms/step - loss: 0.2675 - accuracy: 0.9267 - val_loss: 1.0594 - val_accuracy: 0.6853\n",
            "Epoch 00046: early stopping\n"
          ],
          "name": "stdout"
        },
        {
          "output_type": "execute_result",
          "data": {
            "text/plain": [
              "<tensorflow.python.keras.callbacks.History at 0x7fca5e0717b8>"
            ]
          },
          "metadata": {
            "tags": []
          },
          "execution_count": 25
        }
      ]
    },
    {
      "cell_type": "code",
      "metadata": {
        "colab": {
          "base_uri": "https://localhost:8080/"
        },
        "id": "jfwYHBexkQ6D",
        "outputId": "0d112941-48d1-45be-fed3-3c614d19dcdf"
      },
      "source": [
        " c4f5.evaluate(X_test, y_test, batch_size = 32)"
      ],
      "execution_count": 26,
      "outputs": [
        {
          "output_type": "stream",
          "text": [
            "313/313 [==============================] - 1s 3ms/step - loss: 1.0594 - accuracy: 0.6853\n"
          ],
          "name": "stdout"
        },
        {
          "output_type": "execute_result",
          "data": {
            "text/plain": [
              "[1.0593980550765991, 0.6852999925613403]"
            ]
          },
          "metadata": {
            "tags": []
          },
          "execution_count": 26
        }
      ]
    },
    {
      "cell_type": "markdown",
      "metadata": {
        "id": "3Ub3qGnjs4EI"
      },
      "source": [
        "## Graph of loss and accuracy\n",
        "- model: C4f5"
      ]
    },
    {
      "cell_type": "code",
      "metadata": {
        "id": "NiSAsgsNtUte"
      },
      "source": [
        "c4f5 = keras.models.Sequential([ \n",
        "    Conv2D(input_shape=(32,32,3),kernel_size=(3,3),strides=(1,1),filters= 64,padding='same',activation='relu'),\n",
        "    MaxPool2D(pool_size=(2,2), strides=(2,2)), \n",
        "    Conv2D(kernel_size=(3,3),strides=(1,1),filters= 128,padding='same',activation='relu'),\n",
        "    MaxPool2D(pool_size=(2,2), strides=(2,2)),\n",
        "    Conv2D(kernel_size=(3,3),strides=(1,1),filters= 256,padding='same',activation='relu'),\n",
        "    MaxPool2D(pool_size=(2,2), strides=(2,2)),\n",
        "    Conv2D(kernel_size=(3,3),strides=(1,1),filters= 512,padding='same',activation='relu'),\n",
        "    MaxPool2D(pool_size=(2,2), strides=(2,2)),\n",
        "    Flatten(), \n",
        "    keras.layers.Dense(128, activation='relu'),  \n",
        "    keras.layers.Dropout(0.25), \n",
        "    keras.layers.Dense(256, activation='relu'),  \n",
        "    keras.layers.Dropout(0.25), \n",
        "    keras.layers.Dense(512, activation='relu'),  \n",
        "    keras.layers.Dropout(0.25), \n",
        "    keras.layers.Dense(1024, activation='relu'),  \n",
        "    keras.layers.Dropout(0.25), \n",
        "    keras.layers.Dense(10, activation='softmax')\n",
        "])\n",
        "\n",
        "c4f5.compile(optimizer='adam',\n",
        "              loss='categorical_crossentropy',\n",
        "              metrics=['accuracy'])"
      ],
      "execution_count": 27,
      "outputs": []
    },
    {
      "cell_type": "code",
      "metadata": {
        "id": "-Yfqv2AqtUtz",
        "colab": {
          "base_uri": "https://localhost:8080/"
        },
        "outputId": "73d71d3c-2e72-4538-e006-ea15e384c52e"
      },
      "source": [
        "epoch = 44\n",
        "hist = c4f5.fit(X_train, y_train, \n",
        "         epochs = epoch, \n",
        "         batch_size =32, \n",
        "         validation_data=(X_test,y_test))"
      ],
      "execution_count": 28,
      "outputs": [
        {
          "output_type": "stream",
          "text": [
            "Epoch 1/44\n",
            "1563/1563 [==============================] - 12s 7ms/step - loss: 1.6848 - accuracy: 0.3539 - val_loss: 1.3731 - val_accuracy: 0.4858\n",
            "Epoch 2/44\n",
            "1563/1563 [==============================] - 11s 7ms/step - loss: 1.2495 - accuracy: 0.5549 - val_loss: 1.1744 - val_accuracy: 0.5836\n",
            "Epoch 3/44\n",
            "1563/1563 [==============================] - 12s 7ms/step - loss: 1.0531 - accuracy: 0.6342 - val_loss: 0.9915 - val_accuracy: 0.6563\n",
            "Epoch 4/44\n",
            "1563/1563 [==============================] - 11s 7ms/step - loss: 0.9219 - accuracy: 0.6868 - val_loss: 0.9589 - val_accuracy: 0.6717\n",
            "Epoch 5/44\n",
            "1563/1563 [==============================] - 11s 7ms/step - loss: 0.8307 - accuracy: 0.7204 - val_loss: 0.8660 - val_accuracy: 0.7101\n",
            "Epoch 6/44\n",
            "1563/1563 [==============================] - 11s 7ms/step - loss: 0.7589 - accuracy: 0.7486 - val_loss: 0.8890 - val_accuracy: 0.7078\n",
            "Epoch 7/44\n",
            "1563/1563 [==============================] - 11s 7ms/step - loss: 0.7014 - accuracy: 0.7669 - val_loss: 0.8610 - val_accuracy: 0.7173\n",
            "Epoch 8/44\n",
            "1563/1563 [==============================] - 11s 7ms/step - loss: 0.6442 - accuracy: 0.7870 - val_loss: 0.8605 - val_accuracy: 0.7195\n",
            "Epoch 9/44\n",
            "1563/1563 [==============================] - 11s 7ms/step - loss: 0.6037 - accuracy: 0.8036 - val_loss: 0.8638 - val_accuracy: 0.7126\n",
            "Epoch 10/44\n",
            "1563/1563 [==============================] - 11s 7ms/step - loss: 0.5693 - accuracy: 0.8142 - val_loss: 0.8423 - val_accuracy: 0.7346\n",
            "Epoch 11/44\n",
            "1563/1563 [==============================] - 11s 7ms/step - loss: 0.5318 - accuracy: 0.8277 - val_loss: 0.9448 - val_accuracy: 0.6997\n",
            "Epoch 12/44\n",
            "1563/1563 [==============================] - 11s 7ms/step - loss: 0.5019 - accuracy: 0.8367 - val_loss: 0.9242 - val_accuracy: 0.7080\n",
            "Epoch 13/44\n",
            "1563/1563 [==============================] - 11s 7ms/step - loss: 0.4709 - accuracy: 0.8479 - val_loss: 0.9173 - val_accuracy: 0.7237\n",
            "Epoch 14/44\n",
            "1563/1563 [==============================] - 11s 7ms/step - loss: 0.4507 - accuracy: 0.8568 - val_loss: 0.8651 - val_accuracy: 0.7363\n",
            "Epoch 15/44\n",
            "1563/1563 [==============================] - 11s 7ms/step - loss: 0.4254 - accuracy: 0.8650 - val_loss: 0.9010 - val_accuracy: 0.7326\n",
            "Epoch 16/44\n",
            "1563/1563 [==============================] - 11s 7ms/step - loss: 0.4047 - accuracy: 0.8716 - val_loss: 0.9275 - val_accuracy: 0.7278\n",
            "Epoch 17/44\n",
            "1563/1563 [==============================] - 11s 7ms/step - loss: 0.3890 - accuracy: 0.8791 - val_loss: 0.9437 - val_accuracy: 0.7216\n",
            "Epoch 18/44\n",
            "1563/1563 [==============================] - 11s 7ms/step - loss: 0.3789 - accuracy: 0.8827 - val_loss: 1.0127 - val_accuracy: 0.7150\n",
            "Epoch 19/44\n",
            "1563/1563 [==============================] - 11s 7ms/step - loss: 0.3668 - accuracy: 0.8869 - val_loss: 0.9377 - val_accuracy: 0.7429\n",
            "Epoch 20/44\n",
            "1563/1563 [==============================] - 11s 7ms/step - loss: 0.3552 - accuracy: 0.8903 - val_loss: 0.9735 - val_accuracy: 0.7337\n",
            "Epoch 21/44\n",
            "1563/1563 [==============================] - 11s 7ms/step - loss: 0.3496 - accuracy: 0.8925 - val_loss: 0.9679 - val_accuracy: 0.7253\n",
            "Epoch 22/44\n",
            "1563/1563 [==============================] - 11s 7ms/step - loss: 0.3299 - accuracy: 0.8997 - val_loss: 1.0131 - val_accuracy: 0.7340\n",
            "Epoch 23/44\n",
            "1563/1563 [==============================] - 11s 7ms/step - loss: 0.3374 - accuracy: 0.8993 - val_loss: 0.9286 - val_accuracy: 0.7323\n",
            "Epoch 24/44\n",
            "1563/1563 [==============================] - 11s 7ms/step - loss: 0.3211 - accuracy: 0.9046 - val_loss: 0.9857 - val_accuracy: 0.7309\n",
            "Epoch 25/44\n",
            "1563/1563 [==============================] - 11s 7ms/step - loss: 0.2975 - accuracy: 0.9121 - val_loss: 1.0745 - val_accuracy: 0.7326\n",
            "Epoch 26/44\n",
            "1563/1563 [==============================] - 11s 7ms/step - loss: 0.3285 - accuracy: 0.9042 - val_loss: 1.0169 - val_accuracy: 0.7229\n",
            "Epoch 27/44\n",
            "1563/1563 [==============================] - 11s 7ms/step - loss: 0.2906 - accuracy: 0.9153 - val_loss: 1.0287 - val_accuracy: 0.7219\n",
            "Epoch 28/44\n",
            "1563/1563 [==============================] - 11s 7ms/step - loss: 0.3271 - accuracy: 0.9050 - val_loss: 0.9398 - val_accuracy: 0.7258\n",
            "Epoch 29/44\n",
            "1563/1563 [==============================] - 11s 7ms/step - loss: 0.2966 - accuracy: 0.9149 - val_loss: 1.0688 - val_accuracy: 0.7354\n",
            "Epoch 30/44\n",
            "1563/1563 [==============================] - 11s 7ms/step - loss: 0.2718 - accuracy: 0.9218 - val_loss: 1.0902 - val_accuracy: 0.7228\n",
            "Epoch 31/44\n",
            "1563/1563 [==============================] - 11s 7ms/step - loss: 0.2801 - accuracy: 0.9201 - val_loss: 1.0004 - val_accuracy: 0.7248\n",
            "Epoch 32/44\n",
            "1563/1563 [==============================] - 11s 7ms/step - loss: 0.3043 - accuracy: 0.9151 - val_loss: 1.0801 - val_accuracy: 0.7193\n",
            "Epoch 33/44\n",
            "1563/1563 [==============================] - 11s 7ms/step - loss: 0.2531 - accuracy: 0.9265 - val_loss: 1.0426 - val_accuracy: 0.7283\n",
            "Epoch 34/44\n",
            "1563/1563 [==============================] - 11s 7ms/step - loss: 0.2865 - accuracy: 0.9207 - val_loss: 1.1172 - val_accuracy: 0.7308\n",
            "Epoch 35/44\n",
            "1563/1563 [==============================] - 11s 7ms/step - loss: 0.2635 - accuracy: 0.9263 - val_loss: 1.0584 - val_accuracy: 0.7290\n",
            "Epoch 36/44\n",
            "1563/1563 [==============================] - 11s 7ms/step - loss: 0.2715 - accuracy: 0.9244 - val_loss: 1.0951 - val_accuracy: 0.7380\n",
            "Epoch 37/44\n",
            "1563/1563 [==============================] - 11s 7ms/step - loss: 0.2639 - accuracy: 0.9284 - val_loss: 1.1139 - val_accuracy: 0.7373\n",
            "Epoch 38/44\n",
            "1563/1563 [==============================] - 11s 7ms/step - loss: 0.2759 - accuracy: 0.9256 - val_loss: 1.1881 - val_accuracy: 0.7193\n",
            "Epoch 39/44\n",
            "1563/1563 [==============================] - 11s 7ms/step - loss: 0.2368 - accuracy: 0.9343 - val_loss: 1.1876 - val_accuracy: 0.7367\n",
            "Epoch 40/44\n",
            "1563/1563 [==============================] - 11s 7ms/step - loss: 0.2419 - accuracy: 0.9345 - val_loss: 1.1286 - val_accuracy: 0.7363\n",
            "Epoch 41/44\n",
            "1563/1563 [==============================] - 11s 7ms/step - loss: 0.2558 - accuracy: 0.9311 - val_loss: 1.1495 - val_accuracy: 0.7268\n",
            "Epoch 42/44\n",
            "1563/1563 [==============================] - 11s 7ms/step - loss: 0.2406 - accuracy: 0.9359 - val_loss: 1.1661 - val_accuracy: 0.7192\n",
            "Epoch 43/44\n",
            "1563/1563 [==============================] - 11s 7ms/step - loss: 0.2572 - accuracy: 0.9312 - val_loss: 1.2014 - val_accuracy: 0.7452\n",
            "Epoch 44/44\n",
            "1563/1563 [==============================] - 11s 7ms/step - loss: 0.2260 - accuracy: 0.9397 - val_loss: 1.1799 - val_accuracy: 0.7236\n"
          ],
          "name": "stdout"
        }
      ]
    },
    {
      "cell_type": "code",
      "metadata": {
        "id": "WNmXXLhvWUiK",
        "colab": {
          "base_uri": "https://localhost:8080/",
          "height": 312
        },
        "outputId": "3d7e7e6e-176c-408d-b02c-fcb54cd650f7"
      },
      "source": [
        "# Plot loass and accuracy\n",
        "# Plot training & validation accuracy values\n",
        "epochs = epoch\n",
        "loss_list = [100 * i for i in hist.history['loss']]\n",
        "acc_list = [100 * i for i in hist.history['accuracy']]\n",
        "plt.plot(range(1,epochs+1),loss_list) \n",
        "plt.plot(range(1,epochs+1),acc_list) \n",
        "plt.title('Model loss & accuracy')\n",
        "plt.ylabel('Accuracy (%)')\n",
        "plt.xlabel('Epoch')\n",
        "plt.legend(['loss', 'accuracy'], loc='center left')"
      ],
      "execution_count": 29,
      "outputs": [
        {
          "output_type": "execute_result",
          "data": {
            "text/plain": [
              "<matplotlib.legend.Legend at 0x7fca563040b8>"
            ]
          },
          "metadata": {
            "tags": []
          },
          "execution_count": 29
        },
        {
          "output_type": "display_data",
          "data": {
            "image/png": "[encoded data removed]",
            "text/plain": [
              "<Figure size 432x288 with 1 Axes>"
            ]
          },
          "metadata": {
            "tags": [],
            "needs_background": "light"
          }
        }
      ]
    },
    {
      "cell_type": "code",
      "metadata": {
        "id": "0wNssVPhu_8m"
      },
      "source": [
        "vloss_list = [100 * i for i in hist.history['val_loss']]\n",
        "vacc_list = [100 * i for i in hist.history['val_accuracy']]"
      ],
      "execution_count": 30,
      "outputs": []
    },
    {
      "cell_type": "code",
      "metadata": {
        "id": "TX5Uzro4vjaY",
        "colab": {
          "base_uri": "https://localhost:8080/",
          "height": 312
        },
        "outputId": "a47f3fe3-9581-40d7-ce44-2ab82efcbd26"
      },
      "source": [
        "plt.plot(range(1,epochs+1),vloss_list)  \n",
        "plt.plot(range(1,epochs+1),vacc_list)  \n",
        "plt.title('Model val_loss & val_accuracy')\n",
        "plt.ylabel('Accuracy (%)')\n",
        "plt.xlabel('Epoch')\n",
        "plt.legend(['val_loss', 'val_accuracy'], loc='center left')"
      ],
      "execution_count": 31,
      "outputs": [
        {
          "output_type": "execute_result",
          "data": {
            "text/plain": [
              "<matplotlib.legend.Legend at 0x7fcab02e9e10>"
            ]
          },
          "metadata": {
            "tags": []
          },
          "execution_count": 31
        },
        {
          "output_type": "display_data",
          "data": {
            "image/png": "[encoded data removed]",
            "text/plain": [
              "<Figure size 432x288 with 1 Axes>"
            ]
          },
          "metadata": {
            "tags": [],
            "needs_background": "light"
          }
        }
      ]
    },
    {
      "cell_type": "code",
      "metadata": {
        "id": "blALTNdyvjVK",
        "colab": {
          "base_uri": "https://localhost:8080/",
          "height": 312
        },
        "outputId": "f71a999f-4a80-4c1d-96ab-ef70683e7e42"
      },
      "source": [
        "plt.plot(range(1,epochs+1),acc_list)  \n",
        "plt.plot(range(1,epochs+1),vacc_list)  \n",
        "plt.plot(np.argmax(np.array(vacc_list))+1,vacc_list[np.argmax(np.array(vacc_list))], 'r*') \n",
        "plt.title('accuracy vs. val_accuracy, best = ' +str(vacc_list[np.argmax(np.array(vacc_list))]))\n",
        "plt.ylabel('Accuracy (%)')\n",
        "plt.xlabel('Epoch')\n",
        "plt.legend(['accuracy','val_accuracy','best']) #, loc='center bottom')\n"
      ],
      "execution_count": 32,
      "outputs": [
        {
          "output_type": "execute_result",
          "data": {
            "text/plain": [
              "<matplotlib.legend.Legend at 0x7fca5e13c0b8>"
            ]
          },
          "metadata": {
            "tags": []
          },
          "execution_count": 32
        },
        {
          "output_type": "display_data",
          "data": {
            "image/png": "[encoded data removed]",
            "text/plain": [
              "<Figure size 432x288 with 1 Axes>"
            ]
          },
          "metadata": {
            "tags": [],
            "needs_background": "light"
          }
        }
      ]
    },
    {
      "cell_type": "markdown",
      "metadata": {
        "id": "SQ3M6vRVXG78"
      },
      "source": [
        "## cifar10 모델 학습\n",
        "> https://gruuuuu.github.io/machine-learning/cifar10-cnn/#"
      ]
    },
    {
      "cell_type": "markdown",
      "metadata": {
        "id": "gBPKMI4y3fsa"
      },
      "source": [
        "## 모형의 저장\n",
        "\n",
        "- 트레이닝이 끝난 모형은 save 메서드로 가중치와 함께 hdf5 형식으로 저장\n",
        "- load 명령으로 불러 사용"
      ]
    },
    {
      "cell_type": "code",
      "metadata": {
        "id": "KCfbQl2v3fsa"
      },
      "source": [
        "# c2f2.save('fmnist_cnn_best.hdf5')"
      ],
      "execution_count": 33,
      "outputs": []
    },
    {
      "cell_type": "code",
      "metadata": {
        "id": "b7-ysIVy3fse",
        "colab": {
          "base_uri": "https://localhost:8080/"
        },
        "outputId": "08bf21c5-6212-476b-96b0-741a012eb323"
      },
      "source": [
        "from keras.models import load_model\n",
        "\n",
        "model = load_model('cifar10_c4f5_best_weights.021-0.7404.hdf5')\n",
        "model.evaluate(X_test, y_test, batch_size=32)"
      ],
      "execution_count": 35,
      "outputs": [
        {
          "output_type": "stream",
          "text": [
            "313/313 [==============================] - 1s 4ms/step - loss: 0.9410 - accuracy: 0.7404\n"
          ],
          "name": "stdout"
        },
        {
          "output_type": "execute_result",
          "data": {
            "text/plain": [
              "[0.940973162651062, 0.7404000163078308]"
            ]
          },
          "metadata": {
            "tags": []
          },
          "execution_count": 35
        }
      ]
    },
    {
      "cell_type": "markdown",
      "metadata": {
        "id": "KF3UzDJotZrh"
      },
      "source": [
        "## Confusion matrix"
      ]
    },
    {
      "cell_type": "code",
      "metadata": {
        "id": "RV1IaOyeu6Em"
      },
      "source": [
        "from sklearn.metrics import confusion_matrix\n",
        "import seaborn as sns"
      ],
      "execution_count": 36,
      "outputs": []
    },
    {
      "cell_type": "code",
      "metadata": {
        "id": "Bxs1eC-cuO0Y"
      },
      "source": [
        "predictions = model.predict(X_test)"
      ],
      "execution_count": 37,
      "outputs": []
    },
    {
      "cell_type": "code",
      "metadata": {
        "colab": {
          "base_uri": "https://localhost:8080/"
        },
        "id": "6Tqhg-UJujo5",
        "outputId": "eb007de8-9bee-4417-8845-7adc2b1c49dd"
      },
      "source": [
        "predictions.shape"
      ],
      "execution_count": 38,
      "outputs": [
        {
          "output_type": "execute_result",
          "data": {
            "text/plain": [
              "(10000, 10)"
            ]
          },
          "metadata": {
            "tags": []
          },
          "execution_count": 38
        }
      ]
    },
    {
      "cell_type": "code",
      "metadata": {
        "colab": {
          "base_uri": "https://localhost:8080/"
        },
        "id": "nZch1JFSufoR",
        "outputId": "6c333d57-b3ff-4571-8fc2-315812685f6d"
      },
      "source": [
        "predictions0 = np.argmax(predictions, axis=1)\n",
        "predictions0.shape"
      ],
      "execution_count": 39,
      "outputs": [
        {
          "output_type": "execute_result",
          "data": {
            "text/plain": [
              "(10000,)"
            ]
          },
          "metadata": {
            "tags": []
          },
          "execution_count": 39
        }
      ]
    },
    {
      "cell_type": "code",
      "metadata": {
        "id": "hiPMQeYXt12l"
      },
      "source": [
        "cm = confusion_matrix(y_test0, predictions0)"
      ],
      "execution_count": 40,
      "outputs": []
    },
    {
      "cell_type": "code",
      "metadata": {
        "id": "YITaGwYjvatc"
      },
      "source": [
        "class_names = ['airplane', 'automobile', 'bird', 'cat', 'deer', 'dog', 'frog', 'horse', 'ship', 'truck']"
      ],
      "execution_count": 41,
      "outputs": []
    },
    {
      "cell_type": "code",
      "metadata": {
        "colab": {
          "base_uri": "https://localhost:8080/",
          "height": 551
        },
        "id": "2qGHMNU3u8ut",
        "outputId": "e6683f21-3683-4206-a930-00aba4380c14"
      },
      "source": [
        "plt.figure(figsize=(9,9))\n",
        "sns.heatmap(cm, cbar=False, xticklabels=class_names, yticklabels=class_names, fmt='d', annot=True, cmap=plt.cm.coolwarm)\n",
        "plt.xlabel('Predicted')\n",
        "plt.ylabel('Actual')\n",
        "plt.show()"
      ],
      "execution_count": 42,
      "outputs": [
        {
          "output_type": "display_data",
          "data": {
            "image/png": "[encoded data removed]",
            "text/plain": [
              "<Figure size 648x648 with 1 Axes>"
            ]
          },
          "metadata": {
            "tags": [],
            "needs_background": "light"
          }
        }
      ]
    },
    {
      "cell_type": "markdown",
      "metadata": {
        "id": "0n2PfCMBh2ju"
      },
      "source": [
        "# State of current scores of cifar-10\n",
        "\n",
        "> https://paperswithcode.com/sota/image-classification-on-cifar-10"
      ]
    },
    {
      "cell_type": "markdown",
      "metadata": {
        "id": "7abyx_2n0_7d"
      },
      "source": [
        "## Transfer learning on cifar-10\n",
        "\n",
        "- https://medium.com/@andrew.dabydeen/transfer-learning-using-resnet50-and-cifar-10-6242ed4b4245\n",
        "\n",
        "- https://medium.com/swlh/comparative-analysis-of-cifar-10-image-classification-transfer-learning-vs-user-defined-cnns-e673685d925e\n",
        "\n",
        "- https://medium.com/swlh/hands-on-the-cifar-10-dataset-with-transfer-learning-2e768fd6c318\n",
        "\n",
        "- https://medium.com/analytics-vidhya/the-transfer-learning-experience-with-vgg16-and-cifar-10-dataset-9b25b306a23f"
      ]
    },
    {
      "cell_type": "code",
      "metadata": {
        "id": "o5iFioeMiAHE"
      },
      "source": [
        ""
      ],
      "execution_count": 42,
      "outputs": []
    }
  ]
}