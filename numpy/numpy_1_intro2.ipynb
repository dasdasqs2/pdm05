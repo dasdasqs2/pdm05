{
  "nbformat": 4,
  "nbformat_minor": 0,
  "metadata": {
    "colab": {
      "name": "numpy_1_intro2.ipynb",
      "provenance": [],
      "collapsed_sections": [],
      "include_colab_link": true
    },
    "kernelspec": {
      "name": "python2",
      "display_name": "Python 2"
    }
  },
  "cells": [
    {
      "cell_type": "markdown",
      "metadata": {
        "id": "view-in-github",
        "colab_type": "text"
      },
      "source": [
        "<a href=\"https://colab.research.google.com/github/dasdasqs2/pdm05/blob/master/numpy/numpy_1_intro2.ipynb\" target=\"_parent\"><img src=\"https://colab.research.google.com/assets/colab-badge.svg\" alt=\"Open In Colab\"/></a>"
      ]
    },
    {
      "cell_type": "markdown",
      "metadata": {
        "id": "0Rd4EgDswXK3",
        "colab_type": "text"
      },
      "source": [
        "## python module 1. numpy\n",
        "### 행렬연산 II\n",
        "\n",
        "1.   행렬곱\n",
        "2.   Boradcast\n",
        "3.   전치행렬\n",
        "4.   요소 접근\n",
        "    - indexing\n",
        "    - slicing\n",
        "\n"
      ]
    },
    {
      "cell_type": "code",
      "metadata": {
        "id": "r-qJzSmeachg",
        "colab_type": "code",
        "colab": {}
      },
      "source": [
        "import numpy as np # 라이브러리의 별명을 지정하는 방식을 사용"
      ],
      "execution_count": null,
      "outputs": []
    },
    {
      "cell_type": "markdown",
      "metadata": {
        "id": "Q9mDdXeZsoJ2",
        "colab_type": "text"
      },
      "source": [
        "\n",
        "\n",
        "---\n",
        "\n"
      ]
    },
    {
      "cell_type": "code",
      "metadata": {
        "id": "okN6sHxnYaFY",
        "colab_type": "code",
        "colab": {}
      },
      "source": [
        "# np.dot(A,B)"
      ],
      "execution_count": null,
      "outputs": []
    },
    {
      "cell_type": "markdown",
      "metadata": {
        "id": "MiYCqlid6NET",
        "colab_type": "text"
      },
      "source": [
        "### numpy 행렬 곱 (dot product)"
      ]
    },
    {
      "cell_type": "markdown",
      "metadata": {
        "id": "I0B2LxuFiHzU",
        "colab_type": "text"
      },
      "source": [
        "#### 행렬 곱 (dot product)"
      ]
    },
    {
      "cell_type": "markdown",
      "metadata": {
        "id": "8FPDBzTliLDT",
        "colab_type": "text"
      },
      "source": [
        "- **행렬 곱 (dot product)**\n",
        "\n",
        "\n",
        "> A 행렬과 B 행렬의 행렬 곱 (dot product)는 **np.dot**(A,B)로 나타내며, 행렬 A의 열벡터와 B 행렬의 행벡터가 같아야 한다.\n",
        "\n",
        "\n",
        "> 만약 같지 않으면 **reshape 또는 전치행렬(transpose) 등을 사용하여 형 변환을 한 후에 행렬 곱을 실행**해야 한다.\n",
        "\n",
        "\n",
        "\n"
      ]
    },
    {
      "cell_type": "code",
      "metadata": {
        "id": "jX9CRfnGgiGI",
        "colab_type": "code",
        "colab": {
          "base_uri": "https://localhost:8080/",
          "height": 87
        },
        "outputId": "8dd217a8-4928-4ef3-9b1e-1acd683c47ff"
      },
      "source": [
        "A = np.array([ [1,2,3], [4,5,6] ]) # 2x3 행렬\n",
        "B = np.array([ [-1,-2], [-3,-4], [-5,-6] ]) # 3x2 행렬\n",
        "\n",
        "# (2x3) dot product (3x2) == (2x2) 행렬\n",
        "C = np.dot(A, B) # 행렬 곱 수행\n",
        "\n",
        "# matrix A, B 형상 출력 => shape\n",
        "print(\"A.shape = \", A.shape, \", B.shape = \", B.shape)\n",
        "print(\"C.shape = \", C.shape)\n",
        "print(C)"
      ],
      "execution_count": null,
      "outputs": [
        {
          "output_type": "stream",
          "text": [
            "('A.shape = ', (2, 3), ', B.shape = ', (3, 2))\n",
            "('C.shape = ', (2, 2))\n",
            "[[-22 -28]\n",
            " [-49 -64]]\n"
          ],
          "name": "stdout"
        }
      ]
    },
    {
      "cell_type": "markdown",
      "metadata": {
        "id": "kc2e0WGsjMbr",
        "colab_type": "text"
      },
      "source": [
        "** 주의\n",
        "\n",
        ">    A     x    B   =  C  \n",
        "> (2x**3) x (3**x2) = (2x2)\n",
        "\n",
        "=> 이렇듯 **행렬 A의 열의 수와  B의 행의 수가 같아야** 한다!"
      ]
    },
    {
      "cell_type": "markdown",
      "metadata": {
        "id": "LoveJgTEjy4-",
        "colab_type": "text"
      },
      "source": [
        "#### 행렬 곱 (dot product) (ll)"
      ]
    },
    {
      "cell_type": "markdown",
      "metadata": {
        "id": "seOr48Wjj-E1",
        "colab_type": "text"
      },
      "source": [
        "행렬 곱은 사칙연산과는 다른 특징을 가진다."
      ]
    },
    {
      "cell_type": "markdown",
      "metadata": {
        "id": "BWoY3pE_j3ye",
        "colab_type": "text"
      },
      "source": [
        "- 행렬 곱은 행렬의 원소 개수가 같아야만 계산할 수 있는 사칙연산의 한계를 벗어나\n",
        "\n",
        "\n",
        "> 1.   행렬 곱 조건을 만족하는 다양한 크기의 행렬을 연속으로 만들고\n",
        "2.   행렬 곱을 연속으로 계산하면서\n",
        "3. 결괏값을 만들 수 있기 때문에 머신러닝과 이미지 프로세싱 분야에서 자주 사용된다.\n",
        "\n",
        "        예) 입력 행렬 형상이 64X64이고, 결과 행렬 형상이 64X10이라면, 중간에 dot product 를 만족시키는 어떤 형상의 행렬이라도 가질 수 있다.\n",
        "        \n",
        "> 행렬 곱을 사용하지 않고 산술 연산만 가능하다면, 입력 행렬의 64X64 크기를 가지는 특성 값만을 사용해야 하기 때문에 다양한 특성을 갖는 필터 개발이 불가능하다."
      ]
    },
    {
      "cell_type": "markdown",
      "metadata": {
        "id": "pi5OgP-GlYQ2",
        "colab_type": "text"
      },
      "source": [
        "### numpy broadcast (**브로드캐스트**)"
      ]
    },
    {
      "cell_type": "markdown",
      "metadata": {
        "id": "b6EWWaQPlf_P",
        "colab_type": "text"
      },
      "source": [
        "- 행렬의 사칙연산은 기본적으로 두 개의 행렬 크기가 같은 경우에만 수행할 수 있다.\n",
        "- 그러나 numpy에서는 **크기가 다른 두 행렬간에도 사칙연산(+,-,x,/)를 사용할 수 있는데 이를 브로드캐스트(broadcast)**라고 지칭한다.\n",
        "- 브로드캐스트는 차원이 작은 쪽이 큰 쪽의 행 단위로 반복적으로 크기를 맞춘 후에 계산된다."
      ]
    },
    {
      "cell_type": "code",
      "metadata": {
        "id": "XpKXG4WWDBdo",
        "colab_type": "code",
        "colab": {}
      },
      "source": [
        "import numpy as np"
      ],
      "execution_count": 1,
      "outputs": []
    },
    {
      "cell_type": "code",
      "metadata": {
        "id": "Nt-qBeSGC-Gi",
        "colab_type": "code",
        "colab": {
          "base_uri": "https://localhost:8080/",
          "height": 53
        },
        "outputId": "7748c35e-b8b1-4f8b-804a-8fd90b240f8f"
      },
      "source": [
        "A = np.array([ [1,2], [3,4] ])\n",
        "A"
      ],
      "execution_count": 2,
      "outputs": [
        {
          "output_type": "execute_result",
          "data": {
            "text/plain": [
              "array([[1, 2],\n",
              "       [3, 4]])"
            ]
          },
          "metadata": {
            "tags": []
          },
          "execution_count": 2
        }
      ]
    },
    {
      "cell_type": "code",
      "metadata": {
        "id": "XE99UiBajJWb",
        "colab_type": "code",
        "colab": {
          "base_uri": "https://localhost:8080/",
          "height": 54
        },
        "outputId": "8d4c5573-6701-4f3f-98b7-890857d97357"
      },
      "source": [
        "A = np.array([ [1,2], [3,4] ])\n",
        "b = 5\n",
        "\n",
        "print(A+b)"
      ],
      "execution_count": 3,
      "outputs": [
        {
          "output_type": "stream",
          "text": [
            "[[6 7]\n",
            " [8 9]]\n"
          ],
          "name": "stdout"
        }
      ]
    },
    {
      "cell_type": "markdown",
      "metadata": {
        "id": "sBtbTlJgmJ4O",
        "colab_type": "text"
      },
      "source": [
        "=> b가 2x2 행렬로 바뀐다.\n",
        "\n",
        "\n",
        ">      b = 5   =>   (5 5)\n",
        "                  (5 5)"
      ]
    },
    {
      "cell_type": "code",
      "metadata": {
        "id": "7z0AHcARmBaE",
        "colab_type": "code",
        "colab": {}
      },
      "source": [
        "C = np.array([ [1,2], [3,4] ])\n",
        "D = np.array([4,5])\n",
        "\n",
        "print(C+D)"
      ],
      "execution_count": null,
      "outputs": []
    },
    {
      "cell_type": "markdown",
      "metadata": {
        "id": "AfNtr1bHmup-",
        "colab_type": "text"
      },
      "source": [
        "=> D가 2x2 행렬로 바뀐다.\n",
        "\n",
        "\n",
        ">      D = (4 5)  =>  (4 5)\n",
        "                    (4 5)\n",
        "\n"
      ]
    },
    {
      "cell_type": "markdown",
      "metadata": {
        "id": "z1VJ6D65nHBY",
        "colab_type": "text"
      },
      "source": [
        "- **브로드캐스트는 사칙연산에만 사용된다**는 것을 반드시 기억할 것! **행렬 곱에는 적용안됨!!!**"
      ]
    },
    {
      "cell_type": "markdown",
      "metadata": {
        "id": "nvPzR19RnVDD",
        "colab_type": "text"
      },
      "source": [
        "### numpy 전치행렬 (transpose)"
      ]
    },
    {
      "cell_type": "markdown",
      "metadata": {
        "id": "sd9iRsaMnZRv",
        "colab_type": "text"
      },
      "source": [
        "- 어떤 행렬의 전치행렬은 원본 행렬의 **열은 행으로, 행은 열로** 바꾼 것이다.\n",
        "- 원본 행렬을 A라고 하면 전치행렬은 **A.T** 로 나타낸다.\n",
        "- 즉, 1행은 1열로 바꾸고 2행은 2열로, 3행은 3열로 바꾼 행렬을 의미한다.\n",
        "\n"
      ]
    },
    {
      "cell_type": "code",
      "metadata": {
        "id": "4KJ9lslEmHlu",
        "colab_type": "code",
        "colab": {
          "base_uri": "https://localhost:8080/",
          "height": 126
        },
        "outputId": "989f9c17-8db8-4e4e-bbaf-87644817fa2f"
      },
      "source": [
        "A = np.array([ [1,2],[3,4],[5,6] ]) # 3x2행렬\n",
        "B = A.T  # A의 전치행렬, 2x3행렬\n",
        "\n",
        "print(\"A.shape ==\", A.shape, \", B.shape ==\", B.shape)\n",
        "print(A)\n",
        "print(B)"
      ],
      "execution_count": 6,
      "outputs": [
        {
          "output_type": "stream",
          "text": [
            "('A.shape ==', (3, 2), ', B.shape ==', (2, 3))\n",
            "[[1 2]\n",
            " [3 4]\n",
            " [5 6]]\n",
            "[[1 3 5]\n",
            " [2 4 6]]\n"
          ],
          "name": "stdout"
        }
      ]
    },
    {
      "cell_type": "code",
      "metadata": {
        "id": "6mpuftSHEbHA",
        "colab_type": "code",
        "colab": {
          "base_uri": "https://localhost:8080/",
          "height": 72
        },
        "outputId": "3626d886-14e7-4a85-fcd9-278c498a79b6"
      },
      "source": [
        "np.dot(A,B)"
      ],
      "execution_count": 7,
      "outputs": [
        {
          "output_type": "execute_result",
          "data": {
            "text/plain": [
              "array([[ 5, 11, 17],\n",
              "       [11, 25, 39],\n",
              "       [17, 39, 61]])"
            ]
          },
          "metadata": {
            "tags": []
          },
          "execution_count": 7
        }
      ]
    },
    {
      "cell_type": "code",
      "metadata": {
        "id": "cRf-Z8zJoNKv",
        "colab_type": "code",
        "colab": {
          "base_uri": "https://localhost:8080/",
          "height": 35
        },
        "outputId": "09b27665-e45a-4b19-a46b-8688eefbcdff"
      },
      "source": [
        "# vector 전치행렬\n",
        "\n",
        "C = np.array([1,2,3,4,5]) # vector, matrix 아님\n",
        "C,C.ndim"
      ],
      "execution_count": 12,
      "outputs": [
        {
          "output_type": "execute_result",
          "data": {
            "text/plain": [
              "(array([1, 2, 3, 4, 5]), 1)"
            ]
          },
          "metadata": {
            "tags": []
          },
          "execution_count": 12
        }
      ]
    },
    {
      "cell_type": "code",
      "metadata": {
        "id": "ISpyZX8IFtFX",
        "colab_type": "code",
        "colab": {
          "base_uri": "https://localhost:8080/",
          "height": 35
        },
        "outputId": "a079d4cd-d164-4271-cdb5-993c9acac0ef"
      },
      "source": [
        "C.shape"
      ],
      "execution_count": 10,
      "outputs": [
        {
          "output_type": "execute_result",
          "data": {
            "text/plain": [
              "(5,)"
            ]
          },
          "metadata": {
            "tags": []
          },
          "execution_count": 10
        }
      ]
    },
    {
      "cell_type": "code",
      "metadata": {
        "id": "gS5JmlZtFkAg",
        "colab_type": "code",
        "colab": {
          "base_uri": "https://localhost:8080/",
          "height": 35
        },
        "outputId": "730e224c-20bc-4698-83f0-961e8c06bd95"
      },
      "source": [
        "# 변화가 없다 (numpy 기본벡터의 전치행렬은)\n",
        "D = C.T  # C는 벡터이므로 transpose 안됨\n",
        "D"
      ],
      "execution_count": 15,
      "outputs": [
        {
          "output_type": "execute_result",
          "data": {
            "text/plain": [
              "array([1, 2, 3, 4, 5])"
            ]
          },
          "metadata": {
            "tags": []
          },
          "execution_count": 15
        }
      ]
    },
    {
      "cell_type": "code",
      "metadata": {
        "id": "n6rIiEfiE-2w",
        "colab_type": "code",
        "colab": {
          "base_uri": "https://localhost:8080/",
          "height": 163
        },
        "outputId": "489db03f-2505-4352-f426-f316ed6f1449"
      },
      "source": [
        "E = C.reshape(1,5) # 1x5 matrix\n",
        "F = E.T  # E의 전치행렬\n",
        "\n",
        "print(\"C.shape ==\", C.shape, \", D.shape ==\", D.shape)\n",
        "print(\"E.shape ==\", E.shape, \", F.shape ==\", F.shape)\n",
        "print(E)\n",
        "print(F)"
      ],
      "execution_count": 16,
      "outputs": [
        {
          "output_type": "stream",
          "text": [
            "('C.shape ==', (5,), ', D.shape ==', (5,))\n",
            "('E.shape ==', (1, 5), ', F.shape ==', (5, 1))\n",
            "[[1 2 3 4 5]]\n",
            "[[1]\n",
            " [2]\n",
            " [3]\n",
            " [4]\n",
            " [5]]\n"
          ],
          "name": "stdout"
        }
      ]
    },
    {
      "cell_type": "markdown",
      "metadata": {
        "id": "kn8VF_T2oxbf",
        "colab_type": "text"
      },
      "source": [
        "### numpy 행렬 원소 접근\n",
        "- indexing\n",
        "- slicing"
      ]
    },
    {
      "cell_type": "markdown",
      "metadata": {
        "id": "_oIbfkwCrIIQ",
        "colab_type": "text"
      },
      "source": [
        "####  indexing & slicing"
      ]
    },
    {
      "cell_type": "markdown",
      "metadata": {
        "id": "i70ADsUWpFNu",
        "colab_type": "text"
      },
      "source": [
        "- **행렬 원소 접근(l)**\n",
        "\n",
        "\n",
        "> 행렬 원소를 명시적(explicit)으로 접근하기 위해서는 리스트에서처럼, 인덱싱 & 슬라이싱 모두 사용이 가능하다.\n",
        "\n",
        "          예1) A[0,0] 또는 A[0][0]은 1행 1열, A[2,1] 또는 A[2][1]은 3행 2열임\n",
        "          예2) A[ : , 0] 은 모든 행 1열을 나타냄\n",
        "          예3) A[0:-1, 1:2] 인덱스 0인 1행부터 인덱스 -1-1=-2인 2행까지의 모든 데이터,\n",
        "                            그리고 인덱스 1인 2열부터 인덱스 2-1=1인 2열까지의 모든 데이터\n",
        "          예4) A[ :, : ] 은 모든 행, 모든 열\n",
        "\n"
      ]
    },
    {
      "cell_type": "code",
      "metadata": {
        "id": "rvMZYdqMHk2B",
        "colab_type": "code",
        "colab": {
          "base_uri": "https://localhost:8080/",
          "height": 35
        },
        "outputId": "85759c57-df6b-478a-e44d-10842842c1a2"
      },
      "source": [
        "A = np.array([10,20,30,40,50,60])\n",
        "A"
      ],
      "execution_count": 21,
      "outputs": [
        {
          "output_type": "execute_result",
          "data": {
            "text/plain": [
              "array([10, 20, 30, 40, 50, 60])"
            ]
          },
          "metadata": {
            "tags": []
          },
          "execution_count": 21
        }
      ]
    },
    {
      "cell_type": "code",
      "metadata": {
        "id": "1BKmHSjxopyB",
        "colab_type": "code",
        "colab": {
          "base_uri": "https://localhost:8080/",
          "height": 145
        },
        "outputId": "42bcc42f-93e7-4c89-d3a7-20d5e4b0b77a"
      },
      "source": [
        "# 예제1\n",
        "\n",
        "A = np.array([10,20,30,40,50,60]).reshape(3,2)\n",
        "\n",
        "print(\"A.shape = \", A.shape)\n",
        "print(A)\n",
        "A"
      ],
      "execution_count": 22,
      "outputs": [
        {
          "output_type": "stream",
          "text": [
            "('A.shape = ', (3, 2))\n",
            "[[10 20]\n",
            " [30 40]\n",
            " [50 60]]\n"
          ],
          "name": "stdout"
        },
        {
          "output_type": "execute_result",
          "data": {
            "text/plain": [
              "array([[10, 20],\n",
              "       [30, 40],\n",
              "       [50, 60]])"
            ]
          },
          "metadata": {
            "tags": []
          },
          "execution_count": 22
        }
      ]
    },
    {
      "cell_type": "code",
      "metadata": {
        "id": "CWL4qtyjqKsA",
        "colab_type": "code",
        "colab": {
          "base_uri": "https://localhost:8080/",
          "height": 54
        },
        "outputId": "e5b673d6-564d-4240-8768-601f2248d203"
      },
      "source": [
        "# 예제2 - 인덱싱\n",
        "\n",
        "print(\"A[0,0] ==\", A[0,0], \", A[0][0] ==\", A[0][0])\n",
        "print(\"A[2,1] ==\", A[2,1], \", A[2][1] ==\", A[2][1])"
      ],
      "execution_count": 23,
      "outputs": [
        {
          "output_type": "stream",
          "text": [
            "('A[0,0] ==', 10, ', A[0][0] ==', 10)\n",
            "('A[2,1] ==', 60, ', A[2][1] ==', 60)\n"
          ],
          "name": "stdout"
        }
      ]
    },
    {
      "cell_type": "code",
      "metadata": {
        "id": "Wn8_1uuYqam2",
        "colab_type": "code",
        "colab": {
          "base_uri": "https://localhost:8080/",
          "height": 54
        },
        "outputId": "837210b6-9553-48e2-f1ce-04029285d30d"
      },
      "source": [
        "# 예제3 - 슬라이싱\n",
        "\n",
        "print(\"A[0:-1, 1:2] ==\", A[0:-1, 1:2])  # == A[0:2, 1:2]"
      ],
      "execution_count": 24,
      "outputs": [
        {
          "output_type": "stream",
          "text": [
            "('A[0:-1, 1:2] ==', array([[20],\n",
            "       [40]]))\n"
          ],
          "name": "stdout"
        }
      ]
    },
    {
      "cell_type": "code",
      "metadata": {
        "id": "YY80y8L1WOtm",
        "colab_type": "code",
        "colab": {
          "base_uri": "https://localhost:8080/",
          "height": 54
        },
        "outputId": "4433f265-6d4d-4534-bd03-d17c55458b67"
      },
      "source": [
        "A[0:2, 1:2]"
      ],
      "execution_count": 25,
      "outputs": [
        {
          "output_type": "execute_result",
          "data": {
            "text/plain": [
              "array([[20],\n",
              "       [40]])"
            ]
          },
          "metadata": {
            "tags": []
          },
          "execution_count": 25
        }
      ]
    },
    {
      "cell_type": "code",
      "metadata": {
        "id": "ToMWigEjqqaK",
        "colab_type": "code",
        "colab": {
          "base_uri": "https://localhost:8080/",
          "height": 90
        },
        "outputId": "c7057a5e-ffc8-4a58-d74e-f683a07a23a4"
      },
      "source": [
        "# 예제4 - 슬라이싱\n",
        "\n",
        "print(\"A[ :, 0] ==\", A[:, 0])\n",
        "print(\"A[ :, :] ==\", A[:, :])"
      ],
      "execution_count": 26,
      "outputs": [
        {
          "output_type": "stream",
          "text": [
            "('A[ :, 0] ==', array([10, 30, 50]))\n",
            "('A[ :, :] ==', array([[10, 20],\n",
            "       [30, 40],\n",
            "       [50, 60]]))\n"
          ],
          "name": "stdout"
        }
      ]
    },
    {
      "cell_type": "markdown",
      "metadata": {
        "id": "O_Eda9fJI08J",
        "colab_type": "text"
      },
      "source": [
        "## [도전] B = np.array([10,20,30,40,50,60]).reshpe(2,3)에 대하여 위의 인덱싱과슬라이싱을 해보세요"
      ]
    },
    {
      "cell_type": "code",
      "metadata": {
        "id": "_XPa4E9ZJbhf",
        "colab_type": "code",
        "colab": {
          "base_uri": "https://localhost:8080/",
          "height": 54
        },
        "outputId": "b9e7b930-2611-4495-9fb3-a3eee0f8d114"
      },
      "source": [
        "B = np.array([10,20,30,40,50,60]).reshape(2,3)\n",
        "B"
      ],
      "execution_count": 31,
      "outputs": [
        {
          "output_type": "execute_result",
          "data": {
            "text/plain": [
              "array([[10, 20, 30],\n",
              "       [40, 50, 60]])"
            ]
          },
          "metadata": {
            "tags": []
          },
          "execution_count": 31
        }
      ]
    },
    {
      "cell_type": "code",
      "metadata": {
        "id": "SBm5GdyTJPOs",
        "colab_type": "code",
        "colab": {
          "base_uri": "https://localhost:8080/",
          "height": 54
        },
        "outputId": "6f87609e-55cb-456b-8672-0dc3b89c6a87"
      },
      "source": [
        "# 인덱싱\n",
        "print(\"B[0,0] ==\", B[0,0], \", B[0][0] ==\", B[0][0])\n",
        "print(\"B[1,2] ==\", B[1,2], \", B[1][2] ==\", B[1][2])"
      ],
      "execution_count": 32,
      "outputs": [
        {
          "output_type": "stream",
          "text": [
            "('B[0,0] ==', 10, ', B[0][0] ==', 10)\n",
            "('B[1,2] ==', 60, ', B[1][2] ==', 60)\n"
          ],
          "name": "stdout"
        }
      ]
    },
    {
      "cell_type": "code",
      "metadata": {
        "id": "uUo9naXbJ90r",
        "colab_type": "code",
        "colab": {
          "base_uri": "https://localhost:8080/",
          "height": 35
        },
        "outputId": "57814dc9-d4b6-4062-e339-30a22ffad642"
      },
      "source": [
        "# 슬라이싱\n",
        "print(\"B[0:-1, 1:2] ==\", B[0:-1, 1:2])  # == B[0:2, 1:2]"
      ],
      "execution_count": 34,
      "outputs": [
        {
          "output_type": "stream",
          "text": [
            "('B[0:-1, 1:2] ==', array([[20]]))\n"
          ],
          "name": "stdout"
        }
      ]
    },
    {
      "cell_type": "markdown",
      "metadata": {
        "id": "RnMm5JvJrKKW",
        "colab_type": "text"
      },
      "source": [
        "#### iterator"
      ]
    },
    {
      "cell_type": "markdown",
      "metadata": {
        "id": "M-KiSswzrOtX",
        "colab_type": "text"
      },
      "source": [
        "- **행렬 원소 접근(ll)**\n",
        "\n",
        "\n",
        "> 명시적(explicit) 인덱싱 & 슬라이싱 이외에 **행렬 모든 원소를 access하는 경우에는 iterator** 사용이 가능하다.\n",
        "\n",
        "\n",
        "> numpy iterator는 C++, Java iterator처럼 next() 메서드를 통해,                     \n",
        "                데이터값을 처음부터 끝까지 순차적으로 읽어들이는 방법을 제공한다.\n",
        "\n",
        "\n",
        "\n"
      ]
    },
    {
      "cell_type": "code",
      "metadata": {
        "id": "FxU6cxHQq0uc",
        "colab_type": "code",
        "colab": {}
      },
      "source": [
        "import numpy as np\n",
        "\n",
        "A = np.array([ [10,20,30,40], [50,60,70,80] ])\n",
        "\n",
        "print(A)\n",
        "print(\"A.shape = \", A.shape)\n"
      ],
      "execution_count": null,
      "outputs": []
    },
    {
      "cell_type": "code",
      "metadata": {
        "id": "jW6s_aP_2MCV",
        "colab_type": "code",
        "colab": {}
      },
      "source": [
        "# 행렬 A의 iterator 생성\n",
        "\n",
        "it = np.nditer(A, flags=['multi_index'], op_flags=['readwrite'])\n",
        "\n",
        "while not it.finished:\n",
        "  \n",
        "  idx = it.multi_index\n",
        "  \n",
        "  print(\"current value => \", A[idx])\n",
        "  \n",
        "  it.iternext()"
      ],
      "execution_count": null,
      "outputs": []
    },
    {
      "cell_type": "markdown",
      "metadata": {
        "id": "s9RsfZAYsc7p",
        "colab_type": "text"
      },
      "source": [
        "2x4 행렬인 경우,\n",
        "\n",
        "> (0,0) => (0,1) => (0,2) => (0,3) => (1,0) => (1,1) => (1,2) => (1,3)   순서대로 access\n",
        " \n"
      ]
    },
    {
      "cell_type": "markdown",
      "metadata": {
        "id": "BzkgLZWvdQbe",
        "colab_type": "text"
      },
      "source": [
        "\n",
        "\n",
        "---\n",
        "\n"
      ]
    }
  ]
}